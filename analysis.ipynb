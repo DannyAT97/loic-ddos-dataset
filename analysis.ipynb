{
 "cells": [
  {
   "cell_type": "markdown",
   "metadata": {},
   "source": [
    "# Undestand Dataset"
   ]
  },
  {
   "cell_type": "code",
   "execution_count": 2,
   "metadata": {},
   "outputs": [],
   "source": [
    "import pandas as pd"
   ]
  },
  {
   "cell_type": "code",
   "execution_count": 3,
   "metadata": {},
   "outputs": [
    {
     "data": {
      "application/vnd.microsoft.datawrangler.viewer.v0+json": {
       "columns": [
        {
         "name": "index",
         "rawType": "int64",
         "type": "integer"
        },
        {
         "name": "No.",
         "rawType": "int64",
         "type": "integer"
        },
        {
         "name": "Time",
         "rawType": "float64",
         "type": "float"
        },
        {
         "name": "Source",
         "rawType": "object",
         "type": "string"
        },
        {
         "name": "Destination",
         "rawType": "object",
         "type": "string"
        },
        {
         "name": "Protocol",
         "rawType": "object",
         "type": "string"
        },
        {
         "name": "Length",
         "rawType": "int64",
         "type": "integer"
        },
        {
         "name": "Info",
         "rawType": "object",
         "type": "string"
        }
       ],
       "ref": "84b7306c-11f1-43b3-baad-9af92af878c2",
       "rows": [
        [
         "0",
         "1",
         "0.0",
         "10.10.70.3",
         "74.125.196.109",
         "TLSv1.2",
         "72",
         "Change Cipher Spec"
        ],
        [
         "1",
         "2",
         "0.023837",
         "10.10.70.100",
         "34.107.221.82",
         "TCP",
         "66",
         "47388  >  80 [ACK] Seq=1 Ack=1 Win=501 Len=0 TSval=1947581574 TSecr=2000853192"
        ],
        [
         "2",
         "3",
         "0.101698",
         "10.10.70.3",
         "74.125.196.109",
         "TLSv1.2",
         "111",
         "Encrypted Handshake Message"
        ],
        [
         "3",
         "4",
         "0.149868",
         "34.107.221.82",
         "10.10.70.100",
         "TCP",
         "66",
         "[TCP ACKed unseen segment] 80  >  47388 [ACK] Seq=1 Ack=2 Win=265 Len=0 TSval=2000863529 TSecr=1947468818"
        ],
        [
         "4",
         "5",
         "0.15333",
         "10.10.70.3",
         "74.125.196.109",
         "TCP",
         "66",
         "63289  >  993 [ACK] Seq=52 Ack=96 Win=43 Len=0 TSval=4009956376 TSecr=1280805204"
        ],
        [
         "5",
         "6",
         "0.158121",
         "10.10.70.3",
         "74.125.196.109",
         "TLSv1.2",
         "109",
         "Application Data"
        ],
        [
         "6",
         "7",
         "0.207899",
         "10.10.70.3",
         "74.125.196.109",
         "TCP",
         "66",
         "63289  >  993 [ACK] Seq=95 Ack=330 Win=43 Len=0 TSval=4009956430 TSecr=1280805258"
        ],
        [
         "7",
         "8",
         "0.210952",
         "10.10.70.3",
         "74.125.196.109",
         "TLSv1.2",
         "480",
         "Application Data"
        ],
        [
         "8",
         "9",
         "0.263914",
         "10.10.40.3",
         "10.10.70.100",
         "TCP",
         "74",
         "38880  >  3000 [SYN] Seq=0 Win=64240 Len=0 MSS=1375 SACK_PERM TSval=769594520 TSecr=0 WS=128"
        ],
        [
         "9",
         "10",
         "0.264729",
         "10.10.70.100",
         "10.10.40.3",
         "TCP",
         "60",
         "3000  >  38880 [RST, ACK] Seq=1 Ack=1 Win=0 Len=0"
        ],
        [
         "10",
         "11",
         "0.309754",
         "10.10.70.3",
         "74.125.196.109",
         "TCP",
         "66",
         "63289  >  993 [ACK] Seq=509 Ack=459 Win=43 Len=0 TSval=4009956532 TSecr=1280805359"
        ],
        [
         "11",
         "12",
         "0.309946",
         "10.10.70.3",
         "74.125.196.109",
         "TLSv1.2",
         "97",
         "Application Data"
        ],
        [
         "12",
         "13",
         "0.359039",
         "10.10.70.3",
         "74.125.196.109",
         "TCP",
         "66",
         "63289  >  993 [ACK] Seq=540 Ack=547 Win=43 Len=0 TSval=4009956581 TSecr=1280805409"
        ],
        [
         "13",
         "14",
         "0.400189",
         "10.10.70.3",
         "172.217.203.84",
         "QUIC",
         "1242",
         "Initial, DCID=297114b14caceab0, PKN: 0, CRYPTO, PADDING"
        ],
        [
         "14",
         "15",
         "0.457204",
         "10.10.70.3",
         "172.217.203.84",
         "QUIC",
         "1242",
         "Initial, DCID=e97114b14caceab0"
        ],
        [
         "15",
         "16",
         "0.457205",
         "10.10.70.3",
         "172.217.203.84",
         "QUIC",
         "81",
         "Handshake, DCID=e97114b14caceab0"
        ],
        [
         "16",
         "17",
         "0.45778",
         "10.10.70.3",
         "172.217.203.84",
         "QUIC",
         "81",
         "Handshake, DCID=e97114b14caceab0"
        ],
        [
         "17",
         "18",
         "0.513364",
         "10.10.70.3",
         "172.217.203.84",
         "QUIC",
         "81",
         "Handshake, DCID=e97114b14caceab0"
        ],
        [
         "18",
         "19",
         "0.536883",
         "10.10.70.100",
         "34.107.221.82",
         "TCP",
         "66",
         "47398  >  80 [ACK] Seq=1 Ack=1 Win=501 Len=0 TSval=1947582086 TSecr=164343632"
        ],
        [
         "19",
         "20",
         "0.55379",
         "10.10.70.3",
         "172.217.203.84",
         "QUIC",
         "115",
         "Handshake, DCID=e97114b14caceab0"
        ],
        [
         "20",
         "21",
         "0.555345",
         "10.10.70.3",
         "172.217.203.84",
         "QUIC",
         "73",
         "Protected Payload (KP0)"
        ],
        [
         "21",
         "22",
         "0.555879",
         "10.10.70.3",
         "172.217.203.84",
         "QUIC",
         "92",
         "Protected Payload (KP0)"
        ],
        [
         "22",
         "23",
         "0.556311",
         "10.10.70.3",
         "172.217.203.84",
         "QUIC",
         "393",
         "Protected Payload (KP0)"
        ],
        [
         "23",
         "24",
         "0.556532",
         "10.10.70.3",
         "172.217.203.84",
         "QUIC",
         "76",
         "Protected Payload (KP0)"
        ],
        [
         "24",
         "25",
         "0.556937",
         "10.10.70.3",
         "172.217.203.84",
         "QUIC",
         "345",
         "Protected Payload (KP0)"
        ],
        [
         "25",
         "26",
         "0.629482",
         "34.107.221.82",
         "10.10.70.100",
         "TCP",
         "66",
         "[TCP ACKed unseen segment] 80  >  47398 [ACK] Seq=1 Ack=2 Win=265 Len=0 TSval=164353890 TSecr=1947468909"
        ],
        [
         "26",
         "27",
         "0.700248",
         "10.10.70.3",
         "172.217.203.84",
         "QUIC",
         "73",
         "Protected Payload (KP0)"
        ],
        [
         "27",
         "28",
         "0.700257",
         "10.10.70.3",
         "172.217.203.84",
         "QUIC",
         "1294",
         "Protected Payload (KP0)"
        ],
        [
         "28",
         "29",
         "0.706416",
         "10.10.70.3",
         "172.217.203.84",
         "QUIC",
         "73",
         "Protected Payload (KP0)"
        ],
        [
         "29",
         "30",
         "0.706699",
         "10.10.70.3",
         "172.217.203.84",
         "QUIC",
         "73",
         "Protected Payload (KP0)"
        ],
        [
         "30",
         "31",
         "0.713101",
         "10.10.70.3",
         "172.217.203.84",
         "QUIC",
         "73",
         "Protected Payload (KP0)"
        ],
        [
         "31",
         "32",
         "0.716748",
         "10.10.70.3",
         "172.217.203.84",
         "QUIC",
         "72",
         "Protected Payload (KP0)"
        ],
        [
         "32",
         "33",
         "0.753248",
         "10.10.70.3",
         "74.125.196.109",
         "TCP",
         "66",
         "63289  >  993 [FIN, ACK] Seq=540 Ack=547 Win=43 Len=0 TSval=4009956975 TSecr=1280805409"
        ],
        [
         "33",
         "34",
         "0.754964",
         "10.10.70.3",
         "74.125.196.109",
         "TCP",
         "78",
         "63290  >  993 [SYN] Seq=0 Win=65535 Len=0 MSS=1460 WS=64 TSval=4112308984 TSecr=0 SACK_PERM"
        ],
        [
         "34",
         "35",
         "0.759772",
         "10.10.70.3",
         "172.217.203.84",
         "ICMP",
         "70",
         "Destination unreachable (Port unreachable)"
        ],
        [
         "35",
         "36",
         "0.814661",
         "10.10.70.3",
         "74.125.196.109",
         "TCP",
         "66",
         "63289  >  993 [ACK] Seq=541 Ack=548 Win=43 Len=0 TSval=4009957037 TSecr=1280805863"
        ],
        [
         "36",
         "37",
         "0.816604",
         "10.10.70.3",
         "74.125.196.109",
         "TCP",
         "66",
         "63290  >  993 [ACK] Seq=1 Ack=1 Win=2752 Len=0 TSval=4112309046 TSecr=1538947422"
        ],
        [
         "37",
         "38",
         "0.850017",
         "10.10.70.3",
         "74.125.196.109",
         "TLSv1.2",
         "272",
         "Client Hello (SNI=imap.gmail.com)"
        ],
        [
         "38",
         "39",
         "0.874308",
         "10.10.70.3",
         "172.217.15.202",
         "TCP",
         "66",
         "59296  >  443 [ACK] Seq=1 Ack=1 Win=2048 Len=0 TSval=4014408658 TSecr=69265929"
        ],
        [
         "39",
         "40",
         "0.884754",
         "10.10.70.3",
         "3.91.140.57",
         "TLSv1.2",
         "130",
         "Application Data"
        ],
        [
         "40",
         "41",
         "0.885022",
         "10.10.70.3",
         "3.91.140.57",
         "TCP",
         "1429",
         "63212  >  443 [ACK] Seq=65 Ack=1 Win=2048 Len=1363 TSval=3893434662 TSecr=1708532786 [TCP PDU reassembled in 42]"
        ],
        [
         "41",
         "42",
         "0.885022",
         "10.10.70.3",
         "3.91.140.57",
         "TLSv1.2",
         "575",
         "Application Data"
        ],
        [
         "42",
         "43",
         "0.903322",
         "10.10.70.3",
         "74.125.196.109",
         "TCP",
         "66",
         "63290  >  993 [ACK] Seq=207 Ack=148 Win=2752 Len=0 TSval=4112309133 TSecr=1538947509"
        ],
        [
         "43",
         "44",
         "0.903824",
         "10.10.70.3",
         "74.125.196.109",
         "TLSv1.2",
         "72",
         "Change Cipher Spec"
        ],
        [
         "44",
         "45",
         "1.019995",
         "10.10.70.3",
         "3.91.140.57",
         "TCP",
         "66",
         "63212  >  443 [ACK] Seq=1937 Ack=372 Win=2042 Len=0 TSval=3893434797 TSecr=1708592567"
        ],
        [
         "45",
         "46",
         "1.019996",
         "10.10.70.3",
         "74.125.196.109",
         "TLSv1.2",
         "111",
         "Encrypted Handshake Message"
        ],
        [
         "46",
         "47",
         "1.150506",
         "10.10.70.3",
         "74.125.196.109",
         "TCP",
         "66",
         "63290  >  993 [ACK] Seq=258 Ack=242 Win=2752 Len=0 TSval=4112309380 TSecr=1538947680"
        ],
        [
         "47",
         "48",
         "1.154128",
         "10.10.70.3",
         "74.125.196.109",
         "TLSv1.2",
         "109",
         "Application Data"
        ],
        [
         "48",
         "49",
         "1.204855",
         "10.10.70.3",
         "74.125.196.109",
         "TCP",
         "66",
         "63290  >  993 [ACK] Seq=301 Ack=475 Win=2752 Len=0 TSval=4112309434 TSecr=1538947812"
        ],
        [
         "49",
         "50",
         "1.205112",
         "10.10.70.3",
         "74.125.196.109",
         "TLSv1.2",
         "480",
         "Application Data"
        ]
       ],
       "shape": {
        "columns": 7,
        "rows": 9816472
       }
      },
      "text/html": [
       "<div>\n",
       "<style scoped>\n",
       "    .dataframe tbody tr th:only-of-type {\n",
       "        vertical-align: middle;\n",
       "    }\n",
       "\n",
       "    .dataframe tbody tr th {\n",
       "        vertical-align: top;\n",
       "    }\n",
       "\n",
       "    .dataframe thead th {\n",
       "        text-align: right;\n",
       "    }\n",
       "</style>\n",
       "<table border=\"1\" class=\"dataframe\">\n",
       "  <thead>\n",
       "    <tr style=\"text-align: right;\">\n",
       "      <th></th>\n",
       "      <th>No.</th>\n",
       "      <th>Time</th>\n",
       "      <th>Source</th>\n",
       "      <th>Destination</th>\n",
       "      <th>Protocol</th>\n",
       "      <th>Length</th>\n",
       "      <th>Info</th>\n",
       "    </tr>\n",
       "  </thead>\n",
       "  <tbody>\n",
       "    <tr>\n",
       "      <th>0</th>\n",
       "      <td>1</td>\n",
       "      <td>0.000000</td>\n",
       "      <td>10.10.70.3</td>\n",
       "      <td>74.125.196.109</td>\n",
       "      <td>TLSv1.2</td>\n",
       "      <td>72</td>\n",
       "      <td>Change Cipher Spec</td>\n",
       "    </tr>\n",
       "    <tr>\n",
       "      <th>1</th>\n",
       "      <td>2</td>\n",
       "      <td>0.023837</td>\n",
       "      <td>10.10.70.100</td>\n",
       "      <td>34.107.221.82</td>\n",
       "      <td>TCP</td>\n",
       "      <td>66</td>\n",
       "      <td>47388  &gt;  80 [ACK] Seq=1 Ack=1 Win=501 Len=0 T...</td>\n",
       "    </tr>\n",
       "    <tr>\n",
       "      <th>2</th>\n",
       "      <td>3</td>\n",
       "      <td>0.101698</td>\n",
       "      <td>10.10.70.3</td>\n",
       "      <td>74.125.196.109</td>\n",
       "      <td>TLSv1.2</td>\n",
       "      <td>111</td>\n",
       "      <td>Encrypted Handshake Message</td>\n",
       "    </tr>\n",
       "    <tr>\n",
       "      <th>3</th>\n",
       "      <td>4</td>\n",
       "      <td>0.149868</td>\n",
       "      <td>34.107.221.82</td>\n",
       "      <td>10.10.70.100</td>\n",
       "      <td>TCP</td>\n",
       "      <td>66</td>\n",
       "      <td>[TCP ACKed unseen segment] 80  &gt;  47388 [ACK] ...</td>\n",
       "    </tr>\n",
       "    <tr>\n",
       "      <th>4</th>\n",
       "      <td>5</td>\n",
       "      <td>0.153330</td>\n",
       "      <td>10.10.70.3</td>\n",
       "      <td>74.125.196.109</td>\n",
       "      <td>TCP</td>\n",
       "      <td>66</td>\n",
       "      <td>63289  &gt;  993 [ACK] Seq=52 Ack=96 Win=43 Len=0...</td>\n",
       "    </tr>\n",
       "    <tr>\n",
       "      <th>...</th>\n",
       "      <td>...</td>\n",
       "      <td>...</td>\n",
       "      <td>...</td>\n",
       "      <td>...</td>\n",
       "      <td>...</td>\n",
       "      <td>...</td>\n",
       "      <td>...</td>\n",
       "    </tr>\n",
       "    <tr>\n",
       "      <th>9816467</th>\n",
       "      <td>9816468</td>\n",
       "      <td>2716.195643</td>\n",
       "      <td>10.10.30.5</td>\n",
       "      <td>10.10.70.100</td>\n",
       "      <td>TCP</td>\n",
       "      <td>78</td>\n",
       "      <td>35062  &gt;  3000 [PSH, ACK] Seq=109 Ack=1 Win=64...</td>\n",
       "    </tr>\n",
       "    <tr>\n",
       "      <th>9816468</th>\n",
       "      <td>9816469</td>\n",
       "      <td>2716.195644</td>\n",
       "      <td>10.10.40.5</td>\n",
       "      <td>10.10.70.100</td>\n",
       "      <td>TCP</td>\n",
       "      <td>654</td>\n",
       "      <td>38250  &gt;  3000 [PSH, ACK] Seq=121 Ack=1 Win=64...</td>\n",
       "    </tr>\n",
       "    <tr>\n",
       "      <th>9816469</th>\n",
       "      <td>9816470</td>\n",
       "      <td>2716.195644</td>\n",
       "      <td>10.10.40.5</td>\n",
       "      <td>10.10.70.100</td>\n",
       "      <td>TCP</td>\n",
       "      <td>642</td>\n",
       "      <td>38258  &gt;  3000 [PSH, ACK] Seq=121 Ack=1 Win=64...</td>\n",
       "    </tr>\n",
       "    <tr>\n",
       "      <th>9816470</th>\n",
       "      <td>9816471</td>\n",
       "      <td>2716.195645</td>\n",
       "      <td>10.10.40.5</td>\n",
       "      <td>10.10.70.100</td>\n",
       "      <td>TCP</td>\n",
       "      <td>78</td>\n",
       "      <td>38250  &gt;  3000 [PSH, ACK] Seq=709 Ack=1 Win=64...</td>\n",
       "    </tr>\n",
       "    <tr>\n",
       "      <th>9816471</th>\n",
       "      <td>9816472</td>\n",
       "      <td>2716.195645</td>\n",
       "      <td>10.10.40.5</td>\n",
       "      <td>10.10.70.100</td>\n",
       "      <td>TCP</td>\n",
       "      <td>78</td>\n",
       "      <td>38258  &gt;  3000 [PSH, ACK] Seq=697 Ack=1 Win=64...</td>\n",
       "    </tr>\n",
       "  </tbody>\n",
       "</table>\n",
       "<p>9816472 rows × 7 columns</p>\n",
       "</div>"
      ],
      "text/plain": [
       "             No.         Time         Source     Destination Protocol  Length  \\\n",
       "0              1     0.000000     10.10.70.3  74.125.196.109  TLSv1.2      72   \n",
       "1              2     0.023837   10.10.70.100   34.107.221.82      TCP      66   \n",
       "2              3     0.101698     10.10.70.3  74.125.196.109  TLSv1.2     111   \n",
       "3              4     0.149868  34.107.221.82    10.10.70.100      TCP      66   \n",
       "4              5     0.153330     10.10.70.3  74.125.196.109      TCP      66   \n",
       "...          ...          ...            ...             ...      ...     ...   \n",
       "9816467  9816468  2716.195643     10.10.30.5    10.10.70.100      TCP      78   \n",
       "9816468  9816469  2716.195644     10.10.40.5    10.10.70.100      TCP     654   \n",
       "9816469  9816470  2716.195644     10.10.40.5    10.10.70.100      TCP     642   \n",
       "9816470  9816471  2716.195645     10.10.40.5    10.10.70.100      TCP      78   \n",
       "9816471  9816472  2716.195645     10.10.40.5    10.10.70.100      TCP      78   \n",
       "\n",
       "                                                      Info  \n",
       "0                                       Change Cipher Spec  \n",
       "1        47388  >  80 [ACK] Seq=1 Ack=1 Win=501 Len=0 T...  \n",
       "2                              Encrypted Handshake Message  \n",
       "3        [TCP ACKed unseen segment] 80  >  47388 [ACK] ...  \n",
       "4        63289  >  993 [ACK] Seq=52 Ack=96 Win=43 Len=0...  \n",
       "...                                                    ...  \n",
       "9816467  35062  >  3000 [PSH, ACK] Seq=109 Ack=1 Win=64...  \n",
       "9816468  38250  >  3000 [PSH, ACK] Seq=121 Ack=1 Win=64...  \n",
       "9816469  38258  >  3000 [PSH, ACK] Seq=121 Ack=1 Win=64...  \n",
       "9816470  38250  >  3000 [PSH, ACK] Seq=709 Ack=1 Win=64...  \n",
       "9816471  38258  >  3000 [PSH, ACK] Seq=697 Ack=1 Win=64...  \n",
       "\n",
       "[9816472 rows x 7 columns]"
      ]
     },
     "execution_count": 3,
     "metadata": {},
     "output_type": "execute_result"
    }
   ],
   "source": [
    "recoil300 = pd.read_csv('datasets/Recoil3000.csv')\n",
    "recoil300"
   ]
  },
  {
   "cell_type": "code",
   "execution_count": 4,
   "metadata": {},
   "outputs": [
    {
     "data": {
      "application/vnd.microsoft.datawrangler.viewer.v0+json": {
       "columns": [
        {
         "name": "index",
         "rawType": "int64",
         "type": "integer"
        },
        {
         "name": "No.",
         "rawType": "int64",
         "type": "integer"
        },
        {
         "name": "Time",
         "rawType": "float64",
         "type": "float"
        },
        {
         "name": "Source",
         "rawType": "object",
         "type": "string"
        },
        {
         "name": "Destination",
         "rawType": "object",
         "type": "string"
        },
        {
         "name": "Protocol",
         "rawType": "object",
         "type": "string"
        },
        {
         "name": "Length",
         "rawType": "int64",
         "type": "integer"
        },
        {
         "name": "Info",
         "rawType": "object",
         "type": "string"
        }
       ],
       "ref": "88e8a692-09cb-4fea-b5a4-9a210573f402",
       "rows": [
        [
         "0",
         "1",
         "0.0",
         "10.10.70.100",
         "10.10.10.14",
         "TCP",
         "66",
         "3008  >  56656 [FIN, ACK] Seq=1 Ack=1 Win=509 Len=0 TSval=2779146940 TSecr=2955025197"
        ],
        [
         "1",
         "2",
         "0.001037",
         "10.10.70.100",
         "10.10.40.4",
         "TCP",
         "60",
         "3008  >  42300 [RST] Seq=1 Win=0 Len=0"
        ],
        [
         "2",
         "3",
         "0.001217",
         "10.10.70.100",
         "10.10.40.6",
         "TCP",
         "60",
         "3008  >  56184 [RST] Seq=1 Win=0 Len=0"
        ],
        [
         "3",
         "4",
         "0.001345",
         "10.10.70.100",
         "10.10.10.16",
         "TCP",
         "60",
         "3008  >  32848 [RST] Seq=1 Win=0 Len=0"
        ],
        [
         "4",
         "5",
         "0.001487",
         "10.10.70.100",
         "10.10.10.16",
         "TCP",
         "60",
         "3008  >  32904 [RST] Seq=1 Win=0 Len=0"
        ],
        [
         "5",
         "6",
         "0.001545",
         "10.10.70.100",
         "10.10.10.16",
         "TCP",
         "60",
         "3008  >  32890 [RST] Seq=1 Win=0 Len=0"
        ],
        [
         "6",
         "7",
         "0.001633",
         "10.10.70.100",
         "10.10.40.3",
         "TCP",
         "60",
         "3008  >  58986 [RST] Seq=1 Win=0 Len=0"
        ],
        [
         "7",
         "8",
         "0.001752",
         "10.10.70.100",
         "10.10.10.14",
         "TCP",
         "60",
         "3008  >  56656 [RST] Seq=1 Win=0 Len=0"
        ],
        [
         "8",
         "9",
         "0.001856",
         "10.10.70.100",
         "10.10.10.16",
         "TCP",
         "60",
         "3008  >  32890 [RST] Seq=1 Win=0 Len=0"
        ],
        [
         "9",
         "10",
         "0.001944",
         "10.10.70.100",
         "10.10.10.16",
         "TCP",
         "60",
         "3008  >  32904 [RST] Seq=1 Win=0 Len=0"
        ],
        [
         "10",
         "11",
         "0.002031",
         "10.10.70.100",
         "10.10.10.16",
         "TCP",
         "60",
         "3008  >  32848 [RST] Seq=1 Win=0 Len=0"
        ],
        [
         "11",
         "12",
         "0.002132",
         "10.10.70.100",
         "10.10.40.6",
         "TCP",
         "60",
         "3008  >  56184 [RST] Seq=1 Win=0 Len=0"
        ],
        [
         "12",
         "13",
         "0.002217",
         "10.10.70.100",
         "10.10.40.4",
         "TCP",
         "60",
         "3008  >  42300 [RST] Seq=1 Win=0 Len=0"
        ],
        [
         "13",
         "14",
         "0.002319",
         "10.10.70.100",
         "10.10.10.16",
         "TCP",
         "60",
         "3008  >  32872 [RST] Seq=1 Win=0 Len=0"
        ],
        [
         "14",
         "15",
         "0.002425",
         "10.10.70.100",
         "10.10.40.3",
         "TCP",
         "60",
         "3008  >  58986 [RST] Seq=1 Win=0 Len=0"
        ],
        [
         "15",
         "16",
         "0.00253",
         "10.10.70.100",
         "10.10.40.4",
         "TCP",
         "60",
         "3008  >  42300 [RST] Seq=1 Win=0 Len=0"
        ],
        [
         "16",
         "17",
         "0.002624",
         "10.10.70.100",
         "10.10.10.16",
         "TCP",
         "60",
         "3008  >  32872 [RST] Seq=1 Win=0 Len=0"
        ],
        [
         "17",
         "18",
         "0.003206",
         "10.10.70.100",
         "10.10.10.16",
         "TCP",
         "60",
         "3008  >  32890 [RST] Seq=1 Win=0 Len=0"
        ],
        [
         "18",
         "19",
         "0.003301",
         "10.10.70.100",
         "10.10.10.16",
         "TCP",
         "60",
         "3008  >  32848 [RST] Seq=1 Win=0 Len=0"
        ],
        [
         "19",
         "20",
         "0.003477",
         "10.10.70.100",
         "10.10.40.6",
         "TCP",
         "60",
         "3008  >  56184 [RST] Seq=1 Win=0 Len=0"
        ],
        [
         "20",
         "21",
         "0.003566",
         "10.10.70.100",
         "10.10.10.16",
         "TCP",
         "60",
         "3008  >  32904 [RST] Seq=1 Win=0 Len=0"
        ],
        [
         "21",
         "22",
         "0.003693",
         "10.10.70.100",
         "10.10.40.3",
         "TCP",
         "60",
         "3008  >  58986 [RST] Seq=1 Win=0 Len=0"
        ],
        [
         "22",
         "23",
         "0.003832",
         "10.10.70.100",
         "10.10.40.4",
         "TCP",
         "60",
         "3008  >  42300 [RST] Seq=1 Win=0 Len=0"
        ],
        [
         "23",
         "24",
         "0.003953",
         "10.10.70.100",
         "10.10.10.16",
         "TCP",
         "60",
         "3008  >  32890 [RST] Seq=1 Win=0 Len=0"
        ],
        [
         "24",
         "25",
         "0.004012",
         "10.10.70.100",
         "10.10.10.16",
         "TCP",
         "60",
         "3008  >  32872 [RST] Seq=1 Win=0 Len=0"
        ],
        [
         "25",
         "26",
         "0.004112",
         "10.10.70.100",
         "10.10.10.16",
         "TCP",
         "60",
         "3008  >  32904 [RST] Seq=1 Win=0 Len=0"
        ],
        [
         "26",
         "27",
         "0.014851",
         "10.10.10.16",
         "10.10.70.100",
         "TCP",
         "78",
         "32914  >  3008 [PSH, ACK] Seq=1 Ack=1 Win=502 Len=12 TSval=2535526295 TSecr=2797968895"
        ],
        [
         "27",
         "28",
         "0.014852",
         "10.10.10.14",
         "10.10.70.100",
         "TCP",
         "138",
         "56596  >  3008 [PSH, ACK] Seq=1 Ack=1 Win=502 Len=72 TSval=2955025225 TSecr=2779146910"
        ],
        [
         "28",
         "29",
         "0.014852",
         "10.10.40.6",
         "10.10.70.100",
         "TCP",
         "78",
         "56250  >  3008 [PSH, ACK] Seq=1 Ack=1 Win=502 Len=12 TSval=737783366 TSecr=3602466880"
        ],
        [
         "29",
         "30",
         "0.014852",
         "10.10.10.16",
         "10.10.70.100",
         "TCP",
         "78",
         "32914  >  3008 [PSH, ACK] Seq=13 Ack=1 Win=502 Len=12 TSval=2535526296 TSecr=2797968895"
        ],
        [
         "30",
         "31",
         "0.014852",
         "10.10.10.14",
         "10.10.70.100",
         "TCP",
         "1312",
         "[TCP Previous segment not captured] 56596  >  3008 [PSH, ACK] Seq=2799 Ack=1 Win=502 Len=1246 TSval=2955025225 TSecr=2779146910"
        ],
        [
         "31",
         "32",
         "0.014853",
         "10.10.10.13",
         "10.10.70.100",
         "TCP",
         "66",
         "59592  >  3008 [ACK] Seq=1 Ack=1 Win=502 Len=0 TSval=3344984814 TSecr=1549953340"
        ],
        [
         "32",
         "33",
         "0.014853",
         "10.10.40.6",
         "10.10.70.100",
         "TCP",
         "78",
         "56250  >  3008 [PSH, ACK] Seq=13 Ack=1 Win=502 Len=12 TSval=737783367 TSecr=3602466880"
        ],
        [
         "33",
         "34",
         "0.014853",
         "10.10.10.16",
         "10.10.70.100",
         "TCP",
         "78",
         "32914  >  3008 [PSH, ACK] Seq=25 Ack=1 Win=502 Len=12 TSval=2535526297 TSecr=2797968895"
        ],
        [
         "34",
         "35",
         "0.015666",
         "10.10.70.100",
         "10.10.10.16",
         "TCP",
         "78",
         "3008  >  32914 [ACK] Seq=1 Ack=4294967285 Win=510 Len=0 TSval=2797968942 TSecr=2535526225 SLE=1 SRE=13"
        ],
        [
         "35",
         "36",
         "0.015762",
         "10.10.70.100",
         "10.10.10.14",
         "TCP",
         "60",
         "3008  >  56596 [RST] Seq=1 Win=0 Len=0"
        ],
        [
         "36",
         "37",
         "0.01582",
         "10.10.70.100",
         "10.10.40.6",
         "TCP",
         "60",
         "3008  >  56250 [RST] Seq=1 Win=0 Len=0"
        ],
        [
         "37",
         "38",
         "0.015911",
         "10.10.70.100",
         "10.10.10.16",
         "TCP",
         "78",
         "[TCP Dup ACK 35#1] 3008  >  32914 [ACK] Seq=1 Ack=4294967285 Win=510 Len=0 TSval=2797968942 TSecr=2535526225 SLE=1 SRE=25"
        ],
        [
         "38",
         "39",
         "0.015993",
         "10.10.70.100",
         "10.10.10.14",
         "TCP",
         "60",
         "3008  >  56596 [RST] Seq=1 Win=0 Len=0"
        ],
        [
         "39",
         "40",
         "0.016053",
         "10.10.70.100",
         "10.10.10.13",
         "TCP",
         "60",
         "3008  >  59592 [RST] Seq=1 Win=0 Len=0"
        ],
        [
         "40",
         "41",
         "0.016144",
         "10.10.70.100",
         "10.10.40.6",
         "TCP",
         "60",
         "3008  >  56250 [RST] Seq=1 Win=0 Len=0"
        ],
        [
         "41",
         "42",
         "0.01623",
         "10.10.70.100",
         "10.10.10.16",
         "TCP",
         "78",
         "[TCP Dup ACK 35#2] 3008  >  32914 [ACK] Seq=1 Ack=4294967285 Win=510 Len=0 TSval=2797968942 TSecr=2535526225 SLE=1 SRE=37"
        ],
        [
         "42",
         "43",
         "0.016499",
         "10.10.10.15",
         "10.10.70.100",
         "TCP",
         "74",
         "57816  >  3008 [SYN] Seq=0 Win=64240 Len=0 MSS=1375 SACK_PERM TSval=556790975 TSecr=0 WS=128"
        ],
        [
         "43",
         "44",
         "0.016499",
         "10.10.40.6",
         "10.10.70.100",
         "TCP",
         "78",
         "56250  >  3008 [PSH, ACK] Seq=25 Ack=1 Win=502 Len=12 TSval=737783368 TSecr=3602466880"
        ],
        [
         "44",
         "45",
         "0.0165",
         "10.10.20.5",
         "10.10.70.100",
         "TCP",
         "74",
         "45656  >  3008 [SYN] Seq=0 Win=64240 Len=0 MSS=1375 SACK_PERM TSval=215509463 TSecr=0 WS=128"
        ],
        [
         "45",
         "46",
         "0.0165",
         "10.10.10.16",
         "10.10.70.100",
         "TCP",
         "78",
         "32914  >  3008 [PSH, ACK] Seq=37 Ack=1 Win=502 Len=12 TSval=2535526298 TSecr=2797968895"
        ],
        [
         "46",
         "47",
         "0.0165",
         "10.10.20.5",
         "10.10.70.100",
         "TCP",
         "66",
         "45644  >  3008 [ACK] Seq=1 Ack=1 Win=502 Len=0 TSval=215509464 TSecr=2128414462"
        ],
        [
         "47",
         "48",
         "0.0165",
         "10.10.10.16",
         "10.10.70.100",
         "TCP",
         "78",
         "32914  >  3008 [PSH, ACK] Seq=49 Ack=1 Win=502 Len=12 TSval=2535526299 TSecr=2797968895"
        ],
        [
         "48",
         "49",
         "0.0165",
         "10.10.10.16",
         "10.10.70.100",
         "TCP",
         "78",
         "32914  >  3008 [PSH, ACK] Seq=61 Ack=1 Win=502 Len=12 TSval=2535526300 TSecr=2797968895"
        ],
        [
         "49",
         "50",
         "0.016501",
         "10.10.10.15",
         "10.10.70.100",
         "TCP",
         "74",
         "57832  >  3008 [SYN] Seq=0 Win=64240 Len=0 MSS=1375 SACK_PERM TSval=556790978 TSecr=0 WS=128"
        ]
       ],
       "shape": {
        "columns": 7,
        "rows": 6455620
       }
      },
      "text/html": [
       "<div>\n",
       "<style scoped>\n",
       "    .dataframe tbody tr th:only-of-type {\n",
       "        vertical-align: middle;\n",
       "    }\n",
       "\n",
       "    .dataframe tbody tr th {\n",
       "        vertical-align: top;\n",
       "    }\n",
       "\n",
       "    .dataframe thead th {\n",
       "        text-align: right;\n",
       "    }\n",
       "</style>\n",
       "<table border=\"1\" class=\"dataframe\">\n",
       "  <thead>\n",
       "    <tr style=\"text-align: right;\">\n",
       "      <th></th>\n",
       "      <th>No.</th>\n",
       "      <th>Time</th>\n",
       "      <th>Source</th>\n",
       "      <th>Destination</th>\n",
       "      <th>Protocol</th>\n",
       "      <th>Length</th>\n",
       "      <th>Info</th>\n",
       "    </tr>\n",
       "  </thead>\n",
       "  <tbody>\n",
       "    <tr>\n",
       "      <th>0</th>\n",
       "      <td>1</td>\n",
       "      <td>0.000000</td>\n",
       "      <td>10.10.70.100</td>\n",
       "      <td>10.10.10.14</td>\n",
       "      <td>TCP</td>\n",
       "      <td>66</td>\n",
       "      <td>3008  &gt;  56656 [FIN, ACK] Seq=1 Ack=1 Win=509 ...</td>\n",
       "    </tr>\n",
       "    <tr>\n",
       "      <th>1</th>\n",
       "      <td>2</td>\n",
       "      <td>0.001037</td>\n",
       "      <td>10.10.70.100</td>\n",
       "      <td>10.10.40.4</td>\n",
       "      <td>TCP</td>\n",
       "      <td>60</td>\n",
       "      <td>3008  &gt;  42300 [RST] Seq=1 Win=0 Len=0</td>\n",
       "    </tr>\n",
       "    <tr>\n",
       "      <th>2</th>\n",
       "      <td>3</td>\n",
       "      <td>0.001217</td>\n",
       "      <td>10.10.70.100</td>\n",
       "      <td>10.10.40.6</td>\n",
       "      <td>TCP</td>\n",
       "      <td>60</td>\n",
       "      <td>3008  &gt;  56184 [RST] Seq=1 Win=0 Len=0</td>\n",
       "    </tr>\n",
       "    <tr>\n",
       "      <th>3</th>\n",
       "      <td>4</td>\n",
       "      <td>0.001345</td>\n",
       "      <td>10.10.70.100</td>\n",
       "      <td>10.10.10.16</td>\n",
       "      <td>TCP</td>\n",
       "      <td>60</td>\n",
       "      <td>3008  &gt;  32848 [RST] Seq=1 Win=0 Len=0</td>\n",
       "    </tr>\n",
       "    <tr>\n",
       "      <th>4</th>\n",
       "      <td>5</td>\n",
       "      <td>0.001487</td>\n",
       "      <td>10.10.70.100</td>\n",
       "      <td>10.10.10.16</td>\n",
       "      <td>TCP</td>\n",
       "      <td>60</td>\n",
       "      <td>3008  &gt;  32904 [RST] Seq=1 Win=0 Len=0</td>\n",
       "    </tr>\n",
       "    <tr>\n",
       "      <th>...</th>\n",
       "      <td>...</td>\n",
       "      <td>...</td>\n",
       "      <td>...</td>\n",
       "      <td>...</td>\n",
       "      <td>...</td>\n",
       "      <td>...</td>\n",
       "      <td>...</td>\n",
       "    </tr>\n",
       "    <tr>\n",
       "      <th>6455615</th>\n",
       "      <td>6455616</td>\n",
       "      <td>1376.894548</td>\n",
       "      <td>10.10.20.5</td>\n",
       "      <td>10.10.70.100</td>\n",
       "      <td>TCP</td>\n",
       "      <td>66</td>\n",
       "      <td>59894  &gt;  3008 [ACK] Seq=1 Ack=1 Win=64256 Len...</td>\n",
       "    </tr>\n",
       "    <tr>\n",
       "      <th>6455616</th>\n",
       "      <td>6455617</td>\n",
       "      <td>1376.894548</td>\n",
       "      <td>10.10.30.4</td>\n",
       "      <td>10.10.70.100</td>\n",
       "      <td>TCP</td>\n",
       "      <td>66</td>\n",
       "      <td>50188  &gt;  3008 [ACK] Seq=1 Ack=1 Win=64256 Len...</td>\n",
       "    </tr>\n",
       "    <tr>\n",
       "      <th>6455617</th>\n",
       "      <td>6455618</td>\n",
       "      <td>1376.895405</td>\n",
       "      <td>10.10.20.5</td>\n",
       "      <td>10.10.70.100</td>\n",
       "      <td>TCP</td>\n",
       "      <td>78</td>\n",
       "      <td>59894  &gt;  3008 [PSH, ACK] Seq=1 Ack=1 Win=6425...</td>\n",
       "    </tr>\n",
       "    <tr>\n",
       "      <th>6455618</th>\n",
       "      <td>6455619</td>\n",
       "      <td>1376.895518</td>\n",
       "      <td>10.10.70.100</td>\n",
       "      <td>10.10.20.5</td>\n",
       "      <td>TCP</td>\n",
       "      <td>66</td>\n",
       "      <td>3008  &gt;  59894 [ACK] Seq=1 Ack=13 Win=65152 Le...</td>\n",
       "    </tr>\n",
       "    <tr>\n",
       "      <th>6455619</th>\n",
       "      <td>6455620</td>\n",
       "      <td>1376.895639</td>\n",
       "      <td>10.10.70.100</td>\n",
       "      <td>10.10.20.5</td>\n",
       "      <td>TCP</td>\n",
       "      <td>66</td>\n",
       "      <td>3008  &gt;  59894 [FIN, ACK] Seq=1 Ack=13 Win=651...</td>\n",
       "    </tr>\n",
       "  </tbody>\n",
       "</table>\n",
       "<p>6455620 rows × 7 columns</p>\n",
       "</div>"
      ],
      "text/plain": [
       "             No.         Time        Source   Destination Protocol  Length  \\\n",
       "0              1     0.000000  10.10.70.100   10.10.10.14      TCP      66   \n",
       "1              2     0.001037  10.10.70.100    10.10.40.4      TCP      60   \n",
       "2              3     0.001217  10.10.70.100    10.10.40.6      TCP      60   \n",
       "3              4     0.001345  10.10.70.100   10.10.10.16      TCP      60   \n",
       "4              5     0.001487  10.10.70.100   10.10.10.16      TCP      60   \n",
       "...          ...          ...           ...           ...      ...     ...   \n",
       "6455615  6455616  1376.894548    10.10.20.5  10.10.70.100      TCP      66   \n",
       "6455616  6455617  1376.894548    10.10.30.4  10.10.70.100      TCP      66   \n",
       "6455617  6455618  1376.895405    10.10.20.5  10.10.70.100      TCP      78   \n",
       "6455618  6455619  1376.895518  10.10.70.100    10.10.20.5      TCP      66   \n",
       "6455619  6455620  1376.895639  10.10.70.100    10.10.20.5      TCP      66   \n",
       "\n",
       "                                                      Info  \n",
       "0        3008  >  56656 [FIN, ACK] Seq=1 Ack=1 Win=509 ...  \n",
       "1                   3008  >  42300 [RST] Seq=1 Win=0 Len=0  \n",
       "2                   3008  >  56184 [RST] Seq=1 Win=0 Len=0  \n",
       "3                   3008  >  32848 [RST] Seq=1 Win=0 Len=0  \n",
       "4                   3008  >  32904 [RST] Seq=1 Win=0 Len=0  \n",
       "...                                                    ...  \n",
       "6455615  59894  >  3008 [ACK] Seq=1 Ack=1 Win=64256 Len...  \n",
       "6455616  50188  >  3008 [ACK] Seq=1 Ack=1 Win=64256 Len...  \n",
       "6455617  59894  >  3008 [PSH, ACK] Seq=1 Ack=1 Win=6425...  \n",
       "6455618  3008  >  59894 [ACK] Seq=1 Ack=13 Win=65152 Le...  \n",
       "6455619  3008  >  59894 [FIN, ACK] Seq=1 Ack=13 Win=651...  \n",
       "\n",
       "[6455620 rows x 7 columns]"
      ]
     },
     "execution_count": 4,
     "metadata": {},
     "output_type": "execute_result"
    }
   ],
   "source": [
    "tcp3008 = pd.read_csv('datasets/TCP3008.csv')\n",
    "tcp3008"
   ]
  },
  {
   "cell_type": "code",
   "execution_count": 5,
   "metadata": {},
   "outputs": [
    {
     "data": {
      "application/vnd.microsoft.datawrangler.viewer.v0+json": {
       "columns": [
        {
         "name": "index",
         "rawType": "int64",
         "type": "integer"
        },
        {
         "name": "No.",
         "rawType": "int64",
         "type": "integer"
        },
        {
         "name": "Time",
         "rawType": "float64",
         "type": "float"
        },
        {
         "name": "Source",
         "rawType": "object",
         "type": "string"
        },
        {
         "name": "Destination",
         "rawType": "object",
         "type": "string"
        },
        {
         "name": "Protocol",
         "rawType": "object",
         "type": "string"
        },
        {
         "name": "Length",
         "rawType": "int64",
         "type": "integer"
        },
        {
         "name": "Info",
         "rawType": "object",
         "type": "string"
        }
       ],
       "ref": "8496d1e6-b27c-48f7-a921-1104765af179",
       "rows": [
        [
         "0",
         "1",
         "0.0",
         "10.10.70.100",
         "10.10.40.6",
         "TCP",
         "60",
         "8080  >  48488 [RST] Seq=1 Win=0 Len=0"
        ],
        [
         "1",
         "2",
         "0.002524",
         "10.10.70.100",
         "10.10.40.6",
         "TCP",
         "74",
         "8080  >  48570 [SYN, ACK] Seq=0 Ack=1 Win=65160 Len=0 MSS=1460 SACK_PERM TSval=3597602995 TSecr=732929047 WS=128"
        ],
        [
         "2",
         "3",
         "0.034004",
         "10.10.70.100",
         "10.10.40.6",
         "TCP",
         "66",
         "8080  >  48570 [ACK] Seq=1 Ack=13 Win=65152 Len=0 TSval=3597603027 TSecr=732929066"
        ],
        [
         "3",
         "4",
         "0.03414",
         "10.10.70.100",
         "10.10.40.6",
         "TCP",
         "66",
         "8080  >  48570 [ACK] Seq=1 Ack=25 Win=65152 Len=0 TSval=3597603027 TSecr=732929067"
        ],
        [
         "4",
         "5",
         "0.034267",
         "10.10.70.100",
         "10.10.40.6",
         "TCP",
         "74",
         "8080  >  48584 [SYN, ACK] Seq=0 Ack=1 Win=65160 Len=0 MSS=1460 SACK_PERM TSval=3597603027 TSecr=732929068 WS=128"
        ],
        [
         "5",
         "6",
         "0.03437",
         "10.10.70.100",
         "10.10.40.6",
         "TCP",
         "66",
         "8080  >  48570 [ACK] Seq=1 Ack=37 Win=65152 Len=0 TSval=3597603027 TSecr=732929069"
        ],
        [
         "6",
         "7",
         "0.034572",
         "10.10.70.100",
         "10.10.40.6",
         "TCP",
         "66",
         "8080  >  48570 [ACK] Seq=1 Ack=49 Win=65152 Len=0 TSval=3597603027 TSecr=732929070"
        ],
        [
         "7",
         "8",
         "0.034609",
         "10.10.70.100",
         "10.10.40.6",
         "TCP",
         "66",
         "8080  >  48570 [ACK] Seq=1 Ack=61 Win=65152 Len=0 TSval=3597603027 TSecr=732929071"
        ],
        [
         "8",
         "9",
         "0.034836",
         "10.10.70.100",
         "10.10.40.6",
         "TCP",
         "66",
         "8080  >  48570 [ACK] Seq=1 Ack=73 Win=65152 Len=0 TSval=3597603027 TSecr=732929072"
        ],
        [
         "9",
         "10",
         "0.034929",
         "10.10.70.100",
         "10.10.40.6",
         "TCP",
         "66",
         "8080  >  48570 [ACK] Seq=1 Ack=85 Win=65152 Len=0 TSval=3597603027 TSecr=732929073"
        ],
        [
         "10",
         "11",
         "0.035067",
         "10.10.70.100",
         "10.10.40.6",
         "TCP",
         "66",
         "8080  >  48570 [ACK] Seq=1 Ack=97 Win=65152 Len=0 TSval=3597603028 TSecr=732929074"
        ],
        [
         "11",
         "12",
         "0.035198",
         "10.10.70.100",
         "10.10.40.6",
         "TCP",
         "66",
         "8080  >  48570 [ACK] Seq=1 Ack=109 Win=65152 Len=0 TSval=3597603028 TSecr=732929076"
        ],
        [
         "12",
         "13",
         "0.036604",
         "10.10.70.100",
         "10.10.40.6",
         "TCP",
         "1429",
         "8080  >  48570 [ACK] Seq=1 Ack=109 Win=65152 Len=1363 TSval=3597603029 TSecr=732929076 [TCP PDU reassembled in 14]"
        ],
        [
         "13",
         "14",
         "0.036627",
         "10.10.70.100",
         "10.10.40.6",
         "HTTP",
         "1023",
         "HTTP/1.1 400   (text/html)"
        ],
        [
         "14",
         "15",
         "0.037056",
         "10.10.70.100",
         "10.10.40.6",
         "TCP",
         "66",
         "8080  >  48570 [FIN, ACK] Seq=2321 Ack=109 Win=65152 Len=0 TSval=3597603030 TSecr=732929076"
        ],
        [
         "15",
         "16",
         "0.043816",
         "10.10.70.100",
         "10.10.40.6",
         "TCP",
         "60",
         "8080  >  48570 [RST] Seq=1 Win=0 Len=0"
        ],
        [
         "16",
         "17",
         "0.045366",
         "10.10.70.100",
         "10.10.40.6",
         "TCP",
         "60",
         "8080  >  48570 [RST] Seq=1 Win=0 Len=0"
        ],
        [
         "17",
         "18",
         "0.045489",
         "10.10.70.100",
         "10.10.40.6",
         "TCP",
         "60",
         "8080  >  48570 [RST] Seq=2321 Win=0 Len=0"
        ],
        [
         "18",
         "19",
         "0.045579",
         "10.10.70.100",
         "10.10.40.6",
         "TCP",
         "66",
         "8080  >  48584 [ACK] Seq=1 Ack=13 Win=65152 Len=0 TSval=3597603038 TSecr=732929089"
        ],
        [
         "19",
         "20",
         "0.045668",
         "10.10.70.100",
         "10.10.40.6",
         "TCP",
         "60",
         "8080  >  48570 [RST] Seq=2322 Win=0 Len=0"
        ],
        [
         "20",
         "21",
         "0.045755",
         "10.10.70.100",
         "10.10.40.6",
         "TCP",
         "66",
         "8080  >  48584 [ACK] Seq=1 Ack=25 Win=65152 Len=0 TSval=3597603038 TSecr=732929090"
        ],
        [
         "21",
         "22",
         "0.046707",
         "10.10.70.100",
         "10.10.40.6",
         "TCP",
         "1429",
         "8080  >  48584 [ACK] Seq=1 Ack=25 Win=65152 Len=1363 TSval=3597603039 TSecr=732929090 [TCP PDU reassembled in 23]"
        ],
        [
         "22",
         "23",
         "0.046749",
         "10.10.70.100",
         "10.10.40.6",
         "HTTP",
         "1023",
         "HTTP/1.1 400   (text/html)"
        ],
        [
         "23",
         "24",
         "0.047439",
         "10.10.70.100",
         "10.10.40.6",
         "TCP",
         "60",
         "8080  >  48570 [RST] Seq=2322 Win=0 Len=0"
        ],
        [
         "24",
         "25",
         "0.047537",
         "10.10.70.100",
         "10.10.40.6",
         "TCP",
         "60",
         "8080  >  48570 [RST] Seq=2322 Win=0 Len=0"
        ],
        [
         "25",
         "26",
         "0.048225",
         "10.10.70.100",
         "10.10.40.6",
         "TCP",
         "60",
         "8080  >  48570 [RST] Seq=2322 Win=0 Len=0"
        ],
        [
         "26",
         "27",
         "0.048821",
         "10.10.70.100",
         "10.10.40.6",
         "TCP",
         "60",
         "8080  >  48570 [RST] Seq=2322 Win=0 Len=0"
        ],
        [
         "27",
         "28",
         "0.04925",
         "10.10.70.100",
         "10.10.40.6",
         "TCP",
         "66",
         "8080  >  48584 [RST, ACK] Seq=2321 Ack=61 Win=65152 Len=0 TSval=3597603042 TSecr=732929091"
        ],
        [
         "28",
         "29",
         "0.049996",
         "10.10.70.100",
         "10.10.40.6",
         "TCP",
         "60",
         "8080  >  48584 [RST] Seq=1 Win=0 Len=0"
        ],
        [
         "29",
         "30",
         "0.050033",
         "10.10.70.100",
         "10.10.40.6",
         "TCP",
         "60",
         "8080  >  48570 [RST] Seq=2322 Win=0 Len=0"
        ],
        [
         "30",
         "31",
         "0.056563",
         "10.10.70.100",
         "10.10.40.6",
         "TCP",
         "60",
         "8080  >  48584 [RST] Seq=1 Win=0 Len=0"
        ],
        [
         "31",
         "32",
         "0.056654",
         "10.10.70.100",
         "10.10.40.6",
         "TCP",
         "60",
         "8080  >  48584 [RST] Seq=1 Win=0 Len=0"
        ],
        [
         "32",
         "33",
         "0.056705",
         "10.10.70.100",
         "10.10.40.6",
         "TCP",
         "74",
         "8080  >  48590 [SYN, ACK] Seq=0 Ack=1 Win=65160 Len=0 MSS=1460 SACK_PERM TSval=3597603049 TSecr=732929097 WS=128"
        ],
        [
         "33",
         "34",
         "0.056747",
         "10.10.70.100",
         "10.10.40.6",
         "TCP",
         "60",
         "8080  >  48584 [RST] Seq=1 Win=0 Len=0"
        ],
        [
         "34",
         "35",
         "0.056793",
         "10.10.70.100",
         "10.10.40.6",
         "TCP",
         "60",
         "8080  >  48584 [RST] Seq=2321 Win=0 Len=0"
        ],
        [
         "35",
         "36",
         "0.060053",
         "10.10.70.100",
         "10.10.40.6",
         "TCP",
         "74",
         "8080  >  48604 [SYN, ACK] Seq=0 Ack=1 Win=65160 Len=0 MSS=1460 SACK_PERM TSval=3597603053 TSecr=732929099 WS=128"
        ],
        [
         "36",
         "37",
         "0.062135",
         "10.10.70.100",
         "10.10.40.6",
         "TCP",
         "66",
         "8080  >  48590 [ACK] Seq=1 Ack=13 Win=65152 Len=0 TSval=3597603055 TSecr=732929106"
        ],
        [
         "37",
         "38",
         "0.062928",
         "10.10.70.100",
         "10.10.40.6",
         "TCP",
         "1429",
         "8080  >  48590 [ACK] Seq=1 Ack=13 Win=65152 Len=1363 TSval=3597603056 TSecr=732929106 [TCP PDU reassembled in 39]"
        ],
        [
         "38",
         "39",
         "0.062959",
         "10.10.70.100",
         "10.10.40.6",
         "HTTP",
         "1023",
         "HTTP/1.1 400   (text/html)"
        ],
        [
         "39",
         "40",
         "0.063306",
         "10.10.70.100",
         "10.10.40.6",
         "TCP",
         "66",
         "8080  >  48590 [FIN, ACK] Seq=2321 Ack=13 Win=65152 Len=0 TSval=3597603056 TSecr=732929106"
        ],
        [
         "40",
         "41",
         "0.065768",
         "10.10.70.100",
         "10.10.40.6",
         "TCP",
         "60",
         "8080  >  48590 [RST] Seq=1 Win=0 Len=0"
        ],
        [
         "41",
         "42",
         "0.065849",
         "10.10.70.100",
         "10.10.40.6",
         "TCP",
         "60",
         "8080  >  48590 [RST] Seq=1 Win=0 Len=0"
        ],
        [
         "42",
         "43",
         "0.065927",
         "10.10.70.100",
         "10.10.40.6",
         "TCP",
         "60",
         "8080  >  48590 [RST] Seq=1 Win=0 Len=0"
        ],
        [
         "43",
         "44",
         "0.066016",
         "10.10.70.100",
         "10.10.40.6",
         "TCP",
         "60",
         "8080  >  48590 [RST] Seq=1 Win=0 Len=0"
        ],
        [
         "44",
         "45",
         "0.066606",
         "10.10.70.100",
         "10.10.40.6",
         "TCP",
         "66",
         "8080  >  48604 [ACK] Seq=1 Ack=13 Win=65152 Len=0 TSval=3597603059 TSecr=732929111"
        ],
        [
         "45",
         "46",
         "0.067671",
         "10.10.70.100",
         "10.10.40.6",
         "TCP",
         "1429",
         "8080  >  48604 [ACK] Seq=1 Ack=13 Win=65152 Len=1363 TSval=3597603060 TSecr=732929111 [TCP PDU reassembled in 47]"
        ],
        [
         "46",
         "47",
         "0.067698",
         "10.10.70.100",
         "10.10.40.6",
         "HTTP",
         "1023",
         "HTTP/1.1 400   (text/html)"
        ],
        [
         "47",
         "48",
         "0.068178",
         "10.10.70.100",
         "10.10.40.6",
         "TCP",
         "66",
         "8080  >  48604 [FIN, ACK] Seq=2321 Ack=13 Win=65152 Len=0 TSval=3597603061 TSecr=732929111"
        ],
        [
         "48",
         "49",
         "0.070967",
         "10.10.70.100",
         "10.10.40.6",
         "TCP",
         "60",
         "8080  >  48590 [RST] Seq=1 Win=0 Len=0"
        ],
        [
         "49",
         "50",
         "0.071098",
         "10.10.70.100",
         "10.10.40.6",
         "TCP",
         "60",
         "8080  >  48604 [RST] Seq=1 Win=0 Len=0"
        ]
       ],
       "shape": {
        "columns": 7,
        "rows": 221522
       }
      },
      "text/html": [
       "<div>\n",
       "<style scoped>\n",
       "    .dataframe tbody tr th:only-of-type {\n",
       "        vertical-align: middle;\n",
       "    }\n",
       "\n",
       "    .dataframe tbody tr th {\n",
       "        vertical-align: top;\n",
       "    }\n",
       "\n",
       "    .dataframe thead th {\n",
       "        text-align: right;\n",
       "    }\n",
       "</style>\n",
       "<table border=\"1\" class=\"dataframe\">\n",
       "  <thead>\n",
       "    <tr style=\"text-align: right;\">\n",
       "      <th></th>\n",
       "      <th>No.</th>\n",
       "      <th>Time</th>\n",
       "      <th>Source</th>\n",
       "      <th>Destination</th>\n",
       "      <th>Protocol</th>\n",
       "      <th>Length</th>\n",
       "      <th>Info</th>\n",
       "    </tr>\n",
       "  </thead>\n",
       "  <tbody>\n",
       "    <tr>\n",
       "      <th>0</th>\n",
       "      <td>1</td>\n",
       "      <td>0.000000</td>\n",
       "      <td>10.10.70.100</td>\n",
       "      <td>10.10.40.6</td>\n",
       "      <td>TCP</td>\n",
       "      <td>60</td>\n",
       "      <td>8080  &gt;  48488 [RST] Seq=1 Win=0 Len=0</td>\n",
       "    </tr>\n",
       "    <tr>\n",
       "      <th>1</th>\n",
       "      <td>2</td>\n",
       "      <td>0.002524</td>\n",
       "      <td>10.10.70.100</td>\n",
       "      <td>10.10.40.6</td>\n",
       "      <td>TCP</td>\n",
       "      <td>74</td>\n",
       "      <td>8080  &gt;  48570 [SYN, ACK] Seq=0 Ack=1 Win=6516...</td>\n",
       "    </tr>\n",
       "    <tr>\n",
       "      <th>2</th>\n",
       "      <td>3</td>\n",
       "      <td>0.034004</td>\n",
       "      <td>10.10.70.100</td>\n",
       "      <td>10.10.40.6</td>\n",
       "      <td>TCP</td>\n",
       "      <td>66</td>\n",
       "      <td>8080  &gt;  48570 [ACK] Seq=1 Ack=13 Win=65152 Le...</td>\n",
       "    </tr>\n",
       "    <tr>\n",
       "      <th>3</th>\n",
       "      <td>4</td>\n",
       "      <td>0.034140</td>\n",
       "      <td>10.10.70.100</td>\n",
       "      <td>10.10.40.6</td>\n",
       "      <td>TCP</td>\n",
       "      <td>66</td>\n",
       "      <td>8080  &gt;  48570 [ACK] Seq=1 Ack=25 Win=65152 Le...</td>\n",
       "    </tr>\n",
       "    <tr>\n",
       "      <th>4</th>\n",
       "      <td>5</td>\n",
       "      <td>0.034267</td>\n",
       "      <td>10.10.70.100</td>\n",
       "      <td>10.10.40.6</td>\n",
       "      <td>TCP</td>\n",
       "      <td>74</td>\n",
       "      <td>8080  &gt;  48584 [SYN, ACK] Seq=0 Ack=1 Win=6516...</td>\n",
       "    </tr>\n",
       "    <tr>\n",
       "      <th>...</th>\n",
       "      <td>...</td>\n",
       "      <td>...</td>\n",
       "      <td>...</td>\n",
       "      <td>...</td>\n",
       "      <td>...</td>\n",
       "      <td>...</td>\n",
       "      <td>...</td>\n",
       "    </tr>\n",
       "    <tr>\n",
       "      <th>221517</th>\n",
       "      <td>221518</td>\n",
       "      <td>574.093240</td>\n",
       "      <td>10.10.70.100</td>\n",
       "      <td>10.10.20.5</td>\n",
       "      <td>TCP</td>\n",
       "      <td>74</td>\n",
       "      <td>8080  &gt;  50832 [SYN, ACK] Seq=0 Ack=1 Win=6516...</td>\n",
       "    </tr>\n",
       "    <tr>\n",
       "      <th>221518</th>\n",
       "      <td>221519</td>\n",
       "      <td>574.161712</td>\n",
       "      <td>10.10.70.100</td>\n",
       "      <td>10.10.20.6</td>\n",
       "      <td>TCP</td>\n",
       "      <td>1023</td>\n",
       "      <td>[TCP Retransmission] 8080  &gt;  35840 [FIN, PSH,...</td>\n",
       "    </tr>\n",
       "    <tr>\n",
       "      <th>221519</th>\n",
       "      <td>221520</td>\n",
       "      <td>574.456792</td>\n",
       "      <td>10.10.70.100</td>\n",
       "      <td>10.10.20.4</td>\n",
       "      <td>ICMP</td>\n",
       "      <td>82</td>\n",
       "      <td>Destination unreachable (Port unreachable)</td>\n",
       "    </tr>\n",
       "    <tr>\n",
       "      <th>221520</th>\n",
       "      <td>221521</td>\n",
       "      <td>574.511816</td>\n",
       "      <td>10.10.70.100</td>\n",
       "      <td>172.64.41.4</td>\n",
       "      <td>TCP</td>\n",
       "      <td>74</td>\n",
       "      <td>[TCP Retransmission] 32936  &gt;  443 [SYN] Seq=0...</td>\n",
       "    </tr>\n",
       "    <tr>\n",
       "      <th>221521</th>\n",
       "      <td>221522</td>\n",
       "      <td>574.736310</td>\n",
       "      <td>10.10.70.100</td>\n",
       "      <td>172.64.41.4</td>\n",
       "      <td>TCP</td>\n",
       "      <td>74</td>\n",
       "      <td>[TCP Retransmission] 32938  &gt;  443 [SYN] Seq=0...</td>\n",
       "    </tr>\n",
       "  </tbody>\n",
       "</table>\n",
       "<p>221522 rows × 7 columns</p>\n",
       "</div>"
      ],
      "text/plain": [
       "           No.        Time        Source  Destination Protocol  Length  \\\n",
       "0            1    0.000000  10.10.70.100   10.10.40.6      TCP      60   \n",
       "1            2    0.002524  10.10.70.100   10.10.40.6      TCP      74   \n",
       "2            3    0.034004  10.10.70.100   10.10.40.6      TCP      66   \n",
       "3            4    0.034140  10.10.70.100   10.10.40.6      TCP      66   \n",
       "4            5    0.034267  10.10.70.100   10.10.40.6      TCP      74   \n",
       "...        ...         ...           ...          ...      ...     ...   \n",
       "221517  221518  574.093240  10.10.70.100   10.10.20.5      TCP      74   \n",
       "221518  221519  574.161712  10.10.70.100   10.10.20.6      TCP    1023   \n",
       "221519  221520  574.456792  10.10.70.100   10.10.20.4     ICMP      82   \n",
       "221520  221521  574.511816  10.10.70.100  172.64.41.4      TCP      74   \n",
       "221521  221522  574.736310  10.10.70.100  172.64.41.4      TCP      74   \n",
       "\n",
       "                                                     Info  \n",
       "0                  8080  >  48488 [RST] Seq=1 Win=0 Len=0  \n",
       "1       8080  >  48570 [SYN, ACK] Seq=0 Ack=1 Win=6516...  \n",
       "2       8080  >  48570 [ACK] Seq=1 Ack=13 Win=65152 Le...  \n",
       "3       8080  >  48570 [ACK] Seq=1 Ack=25 Win=65152 Le...  \n",
       "4       8080  >  48584 [SYN, ACK] Seq=0 Ack=1 Win=6516...  \n",
       "...                                                   ...  \n",
       "221517  8080  >  50832 [SYN, ACK] Seq=0 Ack=1 Win=6516...  \n",
       "221518  [TCP Retransmission] 8080  >  35840 [FIN, PSH,...  \n",
       "221519         Destination unreachable (Port unreachable)  \n",
       "221520  [TCP Retransmission] 32936  >  443 [SYN] Seq=0...  \n",
       "221521  [TCP Retransmission] 32938  >  443 [SYN] Seq=0...  \n",
       "\n",
       "[221522 rows x 7 columns]"
      ]
     },
     "execution_count": 5,
     "metadata": {},
     "output_type": "execute_result"
    }
   ],
   "source": [
    "tcp8080 = pd.read_csv('datasets/TCP8080.csv')\n",
    "tcp8080"
   ]
  },
  {
   "cell_type": "code",
   "execution_count": 6,
   "metadata": {},
   "outputs": [
    {
     "data": {
      "application/vnd.microsoft.datawrangler.viewer.v0+json": {
       "columns": [
        {
         "name": "index",
         "rawType": "int64",
         "type": "integer"
        },
        {
         "name": "No.",
         "rawType": "int64",
         "type": "integer"
        },
        {
         "name": "Time",
         "rawType": "float64",
         "type": "float"
        },
        {
         "name": "Source",
         "rawType": "object",
         "type": "string"
        },
        {
         "name": "Destination",
         "rawType": "object",
         "type": "string"
        },
        {
         "name": "Protocol",
         "rawType": "object",
         "type": "string"
        },
        {
         "name": "Length",
         "rawType": "int64",
         "type": "integer"
        },
        {
         "name": "Info",
         "rawType": "object",
         "type": "string"
        }
       ],
       "ref": "2c8146bb-c7ab-4b9e-9838-faadc8393bfc",
       "rows": [
        [
         "0",
         "1",
         "0.0",
         "10.10.70.100",
         "10.10.30.9",
         "TCP",
         "60",
         "8080  >  36906 [RST] Seq=1 Win=0 Len=0"
        ],
        [
         "1",
         "2",
         "4.8e-05",
         "10.10.70.100",
         "10.10.20.4",
         "TCP",
         "78",
         "8080  >  37482 [ACK] Seq=1 Ack=1 Win=509 Len=0 TSval=179793726 TSecr=307897543 SLE=13 SRE=61"
        ],
        [
         "2",
         "3",
         "0.000118",
         "10.10.70.100",
         "10.10.30.5",
         "TCP",
         "86",
         "8080  >  56852 [ACK] Seq=1 Ack=1 Win=510 Len=0 TSval=2718992658 TSecr=3920662945 SLE=61 SRE=85 SLE=13 SRE=25"
        ],
        [
         "3",
         "4",
         "0.000166",
         "10.10.70.100",
         "10.10.10.13",
         "TCP",
         "78",
         "8080  >  35596 [ACK] Seq=1 Ack=1 Win=510 Len=0 TSval=1546502656 TSecr=3341540826 SLE=49 SRE=73"
        ],
        [
         "4",
         "5",
         "0.000233",
         "10.10.70.100",
         "10.10.40.6",
         "TCP",
         "78",
         "8080  >  36596 [ACK] Seq=1 Ack=1 Win=510 Len=0 TSval=3599016193 TSecr=734339424 SLE=49 SRE=817"
        ],
        [
         "5",
         "6",
         "0.000292",
         "10.10.70.100",
         "10.10.40.6",
         "TCP",
         "86",
         "8080  >  36570 [ACK] Seq=1 Ack=1 Win=510 Len=0 TSval=3599016193 TSecr=734339424 SLE=49 SRE=937 SLE=25 SRE=37"
        ],
        [
         "6",
         "7",
         "0.000445",
         "10.10.70.100",
         "10.10.40.6",
         "TCP",
         "86",
         "8080  >  36572 [ACK] Seq=1 Ack=1 Win=510 Len=0 TSval=3599016193 TSecr=734339424 SLE=85 SRE=973 SLE=37 SRE=49"
        ],
        [
         "7",
         "8",
         "0.000492",
         "10.10.70.100",
         "10.10.20.4",
         "TCP",
         "78",
         "[TCP Dup ACK 2#1] 8080  >  37482 [ACK] Seq=1 Ack=1 Win=509 Len=0 TSval=179793727 TSecr=307897543 SLE=13 SRE=73"
        ],
        [
         "8",
         "9",
         "0.000569",
         "10.10.70.100",
         "10.10.40.5",
         "TCP",
         "60",
         "8080  >  53958 [RST] Seq=1 Win=0 Len=0"
        ],
        [
         "9",
         "10",
         "0.000683",
         "10.10.70.100",
         "10.10.30.5",
         "TCP",
         "86",
         "[TCP Dup ACK 3#1] 8080  >  56852 [ACK] Seq=1 Ack=1 Win=510 Len=0 TSval=2718992658 TSecr=3920662945 SLE=61 SRE=97 SLE=13 SRE=25"
        ],
        [
         "10",
         "11",
         "0.00078",
         "10.10.70.100",
         "10.10.30.9",
         "TCP",
         "60",
         "8080  >  36906 [RST] Seq=2321 Win=0 Len=0"
        ],
        [
         "11",
         "12",
         "0.000875",
         "10.10.70.100",
         "10.10.10.13",
         "TCP",
         "78",
         "[TCP Dup ACK 4#1] 8080  >  35596 [ACK] Seq=1 Ack=1 Win=510 Len=0 TSval=1546502656 TSecr=3341540826 SLE=49 SRE=85"
        ],
        [
         "12",
         "13",
         "0.000961",
         "10.10.70.100",
         "10.10.20.4",
         "TCP",
         "78",
         "8080  >  37470 [ACK] Seq=1 Ack=1 Win=510 Len=0 TSval=179793727 TSecr=307897552 SLE=61 SRE=769"
        ],
        [
         "13",
         "14",
         "0.001099",
         "10.10.70.100",
         "10.10.20.4",
         "TCP",
         "78",
         "[TCP Dup ACK 2#2] 8080  >  37482 [ACK] Seq=1 Ack=1 Win=509 Len=0 TSval=179793728 TSecr=307897543 SLE=13 SRE=85"
        ],
        [
         "14",
         "15",
         "0.001185",
         "10.10.70.100",
         "10.10.20.4",
         "TCP",
         "66",
         "8080  >  37450 [ACK] Seq=1 Ack=1 Win=503 Len=0 TSval=179793728 TSecr=307897552"
        ],
        [
         "15",
         "16",
         "0.00127",
         "10.10.70.100",
         "10.10.20.4",
         "TCP",
         "78",
         "8080  >  37464 [ACK] Seq=1 Ack=1 Win=510 Len=0 TSval=179793728 TSecr=307897552 SLE=37 SRE=889"
        ],
        [
         "16",
         "17",
         "0.001347",
         "10.10.70.100",
         "10.10.20.4",
         "TCP",
         "86",
         "8080  >  37456 [ACK] Seq=1 Ack=1 Win=510 Len=0 TSval=179793728 TSecr=307897552 SLE=97 SRE=961 SLE=73 SRE=85"
        ],
        [
         "17",
         "18",
         "0.001419",
         "10.10.70.100",
         "10.10.30.5",
         "TCP",
         "86",
         "[TCP Dup ACK 3#2] 8080  >  56852 [ACK] Seq=1 Ack=1 Win=510 Len=0 TSval=2718992659 TSecr=3920662945 SLE=61 SRE=109 SLE=13 SRE=25"
        ],
        [
         "18",
         "19",
         "0.00151",
         "10.10.70.100",
         "10.10.10.13",
         "TCP",
         "78",
         "[TCP Dup ACK 4#2] 8080  >  35596 [ACK] Seq=1 Ack=1 Win=510 Len=0 TSval=1546502657 TSecr=3341540826 SLE=49 SRE=97"
        ],
        [
         "19",
         "20",
         "0.001591",
         "10.10.70.100",
         "10.10.10.16",
         "TCP",
         "60",
         "8080  >  58262 [RST] Seq=1 Win=0 Len=0"
        ],
        [
         "20",
         "21",
         "0.001669",
         "10.10.70.100",
         "10.10.20.4",
         "TCP",
         "78",
         "[TCP Dup ACK 2#3] 8080  >  37482 [ACK] Seq=1 Ack=1 Win=509 Len=0 TSval=179793728 TSecr=307897543 SLE=13 SRE=97"
        ],
        [
         "21",
         "22",
         "0.001745",
         "10.10.70.100",
         "10.10.30.5",
         "TCP",
         "86",
         "[TCP Dup ACK 3#3] 8080  >  56852 [ACK] Seq=1 Ack=1 Win=510 Len=0 TSval=2718992659 TSecr=3920662945 SLE=61 SRE=121 SLE=13 SRE=25"
        ],
        [
         "22",
         "23",
         "0.001857",
         "10.10.70.100",
         "10.10.20.3",
         "TCP",
         "66",
         "8080  >  33274 [ACK] Seq=1 Ack=1 Win=504 Len=0 TSval=2695103684 TSecr=2389337471"
        ],
        [
         "23",
         "24",
         "0.001919",
         "10.10.10.16",
         "10.10.70.100",
         "TCP",
         "66",
         "58256  >  8080 [ACK] Seq=1 Ack=1 Win=499 Len=0 TSval=2532082387 TSecr=2794518169"
        ],
        [
         "24",
         "25",
         "0.001919",
         "10.10.30.4",
         "10.10.70.100",
         "TCP",
         "78",
         "59318  >  8080 [PSH, ACK] Seq=1 Ack=1 Win=502 Len=12 TSval=3079280529 TSecr=3484663933 [TCP PDU reassembled in 931]"
        ],
        [
         "25",
         "26",
         "0.001919",
         "10.10.40.6",
         "10.10.70.100",
         "TCP",
         "74",
         "36626  >  8080 [SYN] Seq=0 Win=64240 Len=0 MSS=1375 SACK_PERM TSval=734339439 TSecr=0 WS=128"
        ],
        [
         "26",
         "27",
         "0.00192",
         "10.10.30.4",
         "10.10.70.100",
         "TCP",
         "78",
         "59318  >  8080 [PSH, ACK] Seq=13 Ack=1 Win=502 Len=12 TSval=3079280530 TSecr=3484663933 [TCP PDU reassembled in 931]"
        ],
        [
         "27",
         "28",
         "0.00192",
         "10.10.30.4",
         "10.10.70.100",
         "TCP",
         "78",
         "59318  >  8080 [PSH, ACK] Seq=25 Ack=1 Win=502 Len=12 TSval=3079280531 TSecr=3484663933 [TCP PDU reassembled in 931]"
        ],
        [
         "28",
         "29",
         "0.001947",
         "10.10.70.100",
         "10.10.10.13",
         "TCP",
         "78",
         "[TCP Dup ACK 4#3] 8080  >  35596 [ACK] Seq=1 Ack=1 Win=510 Len=0 TSval=1546502657 TSecr=3341540826 SLE=49 SRE=109"
        ],
        [
         "29",
         "30",
         "0.002018",
         "10.10.70.100",
         "10.10.20.4",
         "TCP",
         "78",
         "[TCP Dup ACK 2#4] 8080  >  37482 [ACK] Seq=1 Ack=1 Win=509 Len=0 TSval=179793728 TSecr=307897543 SLE=13 SRE=109"
        ],
        [
         "30",
         "31",
         "0.002167",
         "10.10.70.100",
         "10.10.20.6",
         "TCP",
         "60",
         "8080  >  34988 [RST] Seq=1 Win=0 Len=0"
        ],
        [
         "31",
         "32",
         "0.002246",
         "10.10.70.100",
         "10.10.20.6",
         "TCP",
         "78",
         "8080  >  35000 [ACK] Seq=1 Ack=1 Win=510 Len=0 TSval=2875690639 TSecr=1257715932 SLE=13 SRE=973"
        ],
        [
         "32",
         "33",
         "0.002325",
         "10.10.70.100",
         "10.10.20.6",
         "TCP",
         "60",
         "8080  >  34988 [RST] Seq=1 Win=0 Len=0"
        ],
        [
         "33",
         "34",
         "0.002401",
         "10.10.70.100",
         "10.10.10.13",
         "TCP",
         "78",
         "[TCP Dup ACK 4#4] 8080  >  35596 [ACK] Seq=1 Ack=1 Win=510 Len=0 TSval=1546502658 TSecr=3341540826 SLE=49 SRE=121"
        ],
        [
         "34",
         "35",
         "0.002465",
         "10.10.70.100",
         "10.10.40.3",
         "TCP",
         "60",
         "8080  >  44690 [RST] Seq=1 Win=0 Len=0"
        ],
        [
         "35",
         "36",
         "0.002548",
         "10.10.70.100",
         "10.10.30.9",
         "TCP",
         "66",
         "8080  >  37048 [ACK] Seq=1 Ack=1 Win=502 Len=0 TSval=2815158268 TSecr=1220859141"
        ],
        [
         "36",
         "37",
         "0.00263",
         "10.10.70.100",
         "10.10.30.5",
         "TCP",
         "86",
         "8080  >  56806 [ACK] Seq=1 Ack=1 Win=510 Len=0 TSval=2718992660 TSecr=3920663001 SLE=97 SRE=889 SLE=61 SRE=73"
        ],
        [
         "37",
         "38",
         "0.002707",
         "10.10.70.100",
         "10.10.10.14",
         "TCP",
         "74",
         "8080  >  60458 [SYN, ACK] Seq=0 Ack=1 Win=65160 Len=0 MSS=1460 SACK_PERM TSval=2775696225 TSecr=2951581301 WS=128"
        ],
        [
         "38",
         "39",
         "0.002768",
         "10.10.70.100",
         "10.10.20.6",
         "TCP",
         "66",
         "8080  >  35000 [ACK] Seq=1 Ack=973 Win=503 Len=0 TSval=2875690639 TSecr=1257715941"
        ],
        [
         "39",
         "40",
         "0.002842",
         "10.10.70.100",
         "10.10.10.16",
         "TCP",
         "60",
         "8080  >  58256 [RST] Seq=4294964977 Win=0 Len=0"
        ],
        [
         "40",
         "41",
         "0.002921",
         "10.10.70.100",
         "10.10.10.16",
         "TCP",
         "60",
         "8080  >  58256 [RST] Seq=4294964977 Win=0 Len=0"
        ],
        [
         "41",
         "42",
         "0.003079",
         "10.10.70.100",
         "10.10.30.4",
         "TCP",
         "78",
         "8080  >  59308 [ACK] Seq=1 Ack=1 Win=510 Len=0 TSval=3484663976 TSecr=3079280528 SLE=25 SRE=961"
        ],
        [
         "42",
         "43",
         "0.003185",
         "10.10.70.100",
         "10.10.40.6",
         "TCP",
         "78",
         "8080  >  36572 [ACK] Seq=1 Ack=49 Win=510 Len=0 TSval=3599016196 TSecr=734339438 SLE=85 SRE=973"
        ],
        [
         "43",
         "44",
         "0.003354",
         "10.10.70.100",
         "10.10.30.8",
         "TCP",
         "78",
         "8080  >  37640 [ACK] Seq=1 Ack=1 Win=510 Len=0 TSval=2852133140 TSecr=946299606 SLE=121 SRE=1484"
        ],
        [
         "44",
         "45",
         "0.003422",
         "10.10.70.100",
         "10.10.30.8",
         "TCP",
         "78",
         "8080  >  37552 [ACK] Seq=1 Ack=1 Win=510 Len=0 TSval=2852133140 TSecr=946299588 SLE=121 SRE=1484"
        ],
        [
         "45",
         "46",
         "0.003753",
         "10.10.70.100",
         "10.10.30.4",
         "TCP",
         "66",
         "8080  >  59318 [ACK] Seq=1 Ack=1 Win=509 Len=0 TSval=3484663977 TSecr=3079280528"
        ],
        [
         "46",
         "47",
         "0.003824",
         "10.10.70.100",
         "10.10.10.16",
         "TCP",
         "60",
         "8080  >  58256 [RST] Seq=1 Win=0 Len=0"
        ],
        [
         "47",
         "48",
         "0.003887",
         "10.10.70.100",
         "10.10.30.4",
         "TCP",
         "66",
         "8080  >  59318 [ACK] Seq=1 Ack=13 Win=509 Len=0 TSval=3484663977 TSecr=3079280529"
        ],
        [
         "48",
         "49",
         "0.003955",
         "10.10.70.100",
         "10.10.40.6",
         "TCP",
         "74",
         "8080  >  36626 [SYN, ACK] Seq=0 Ack=1 Win=65160 Len=0 MSS=1460 SACK_PERM TSval=3599016196 TSecr=734339439 WS=128"
        ],
        [
         "49",
         "50",
         "0.00402",
         "10.10.70.100",
         "10.10.30.4",
         "TCP",
         "66",
         "8080  >  59318 [ACK] Seq=1 Ack=25 Win=509 Len=0 TSval=3484663977 TSecr=3079280530"
        ]
       ],
       "shape": {
        "columns": 7,
        "rows": 6781496
       }
      },
      "text/html": [
       "<div>\n",
       "<style scoped>\n",
       "    .dataframe tbody tr th:only-of-type {\n",
       "        vertical-align: middle;\n",
       "    }\n",
       "\n",
       "    .dataframe tbody tr th {\n",
       "        vertical-align: top;\n",
       "    }\n",
       "\n",
       "    .dataframe thead th {\n",
       "        text-align: right;\n",
       "    }\n",
       "</style>\n",
       "<table border=\"1\" class=\"dataframe\">\n",
       "  <thead>\n",
       "    <tr style=\"text-align: right;\">\n",
       "      <th></th>\n",
       "      <th>No.</th>\n",
       "      <th>Time</th>\n",
       "      <th>Source</th>\n",
       "      <th>Destination</th>\n",
       "      <th>Protocol</th>\n",
       "      <th>Length</th>\n",
       "      <th>Info</th>\n",
       "    </tr>\n",
       "  </thead>\n",
       "  <tbody>\n",
       "    <tr>\n",
       "      <th>0</th>\n",
       "      <td>1</td>\n",
       "      <td>0.000000</td>\n",
       "      <td>10.10.70.100</td>\n",
       "      <td>10.10.30.9</td>\n",
       "      <td>TCP</td>\n",
       "      <td>60</td>\n",
       "      <td>8080  &gt;  36906 [RST] Seq=1 Win=0 Len=0</td>\n",
       "    </tr>\n",
       "    <tr>\n",
       "      <th>1</th>\n",
       "      <td>2</td>\n",
       "      <td>0.000048</td>\n",
       "      <td>10.10.70.100</td>\n",
       "      <td>10.10.20.4</td>\n",
       "      <td>TCP</td>\n",
       "      <td>78</td>\n",
       "      <td>8080  &gt;  37482 [ACK] Seq=1 Ack=1 Win=509 Len=0...</td>\n",
       "    </tr>\n",
       "    <tr>\n",
       "      <th>2</th>\n",
       "      <td>3</td>\n",
       "      <td>0.000118</td>\n",
       "      <td>10.10.70.100</td>\n",
       "      <td>10.10.30.5</td>\n",
       "      <td>TCP</td>\n",
       "      <td>86</td>\n",
       "      <td>8080  &gt;  56852 [ACK] Seq=1 Ack=1 Win=510 Len=0...</td>\n",
       "    </tr>\n",
       "    <tr>\n",
       "      <th>3</th>\n",
       "      <td>4</td>\n",
       "      <td>0.000166</td>\n",
       "      <td>10.10.70.100</td>\n",
       "      <td>10.10.10.13</td>\n",
       "      <td>TCP</td>\n",
       "      <td>78</td>\n",
       "      <td>8080  &gt;  35596 [ACK] Seq=1 Ack=1 Win=510 Len=0...</td>\n",
       "    </tr>\n",
       "    <tr>\n",
       "      <th>4</th>\n",
       "      <td>5</td>\n",
       "      <td>0.000233</td>\n",
       "      <td>10.10.70.100</td>\n",
       "      <td>10.10.40.6</td>\n",
       "      <td>TCP</td>\n",
       "      <td>78</td>\n",
       "      <td>8080  &gt;  36596 [ACK] Seq=1 Ack=1 Win=510 Len=0...</td>\n",
       "    </tr>\n",
       "    <tr>\n",
       "      <th>...</th>\n",
       "      <td>...</td>\n",
       "      <td>...</td>\n",
       "      <td>...</td>\n",
       "      <td>...</td>\n",
       "      <td>...</td>\n",
       "      <td>...</td>\n",
       "      <td>...</td>\n",
       "    </tr>\n",
       "    <tr>\n",
       "      <th>6781491</th>\n",
       "      <td>6781492</td>\n",
       "      <td>1157.432714</td>\n",
       "      <td>10.10.70.3</td>\n",
       "      <td>52.96.183.242</td>\n",
       "      <td>TCP</td>\n",
       "      <td>66</td>\n",
       "      <td>63831  &gt;  443 [ACK] Seq=114287 Ack=69875 Win=4...</td>\n",
       "    </tr>\n",
       "    <tr>\n",
       "      <th>6781492</th>\n",
       "      <td>6781493</td>\n",
       "      <td>1157.463747</td>\n",
       "      <td>10.10.70.3</td>\n",
       "      <td>52.96.183.242</td>\n",
       "      <td>TCP</td>\n",
       "      <td>1429</td>\n",
       "      <td>63831  &gt;  443 [ACK] Seq=114287 Ack=69875 Win=4...</td>\n",
       "    </tr>\n",
       "    <tr>\n",
       "      <th>6781493</th>\n",
       "      <td>6781494</td>\n",
       "      <td>1157.463830</td>\n",
       "      <td>10.10.70.3</td>\n",
       "      <td>52.96.183.242</td>\n",
       "      <td>TLSv1.2</td>\n",
       "      <td>550</td>\n",
       "      <td>Application Data</td>\n",
       "    </tr>\n",
       "    <tr>\n",
       "      <th>6781494</th>\n",
       "      <td>6781495</td>\n",
       "      <td>1157.464065</td>\n",
       "      <td>10.10.70.3</td>\n",
       "      <td>52.96.183.242</td>\n",
       "      <td>TCP</td>\n",
       "      <td>1429</td>\n",
       "      <td>63831  &gt;  443 [ACK] Seq=116134 Ack=69875 Win=4...</td>\n",
       "    </tr>\n",
       "    <tr>\n",
       "      <th>6781495</th>\n",
       "      <td>6781496</td>\n",
       "      <td>1157.464095</td>\n",
       "      <td>10.10.70.3</td>\n",
       "      <td>52.96.183.242</td>\n",
       "      <td>TLSv1.2</td>\n",
       "      <td>87</td>\n",
       "      <td>Application Data</td>\n",
       "    </tr>\n",
       "  </tbody>\n",
       "</table>\n",
       "<p>6781496 rows × 7 columns</p>\n",
       "</div>"
      ],
      "text/plain": [
       "             No.         Time        Source    Destination Protocol  Length  \\\n",
       "0              1     0.000000  10.10.70.100     10.10.30.9      TCP      60   \n",
       "1              2     0.000048  10.10.70.100     10.10.20.4      TCP      78   \n",
       "2              3     0.000118  10.10.70.100     10.10.30.5      TCP      86   \n",
       "3              4     0.000166  10.10.70.100    10.10.10.13      TCP      78   \n",
       "4              5     0.000233  10.10.70.100     10.10.40.6      TCP      78   \n",
       "...          ...          ...           ...            ...      ...     ...   \n",
       "6781491  6781492  1157.432714    10.10.70.3  52.96.183.242      TCP      66   \n",
       "6781492  6781493  1157.463747    10.10.70.3  52.96.183.242      TCP    1429   \n",
       "6781493  6781494  1157.463830    10.10.70.3  52.96.183.242  TLSv1.2     550   \n",
       "6781494  6781495  1157.464065    10.10.70.3  52.96.183.242      TCP    1429   \n",
       "6781495  6781496  1157.464095    10.10.70.3  52.96.183.242  TLSv1.2      87   \n",
       "\n",
       "                                                      Info  \n",
       "0                   8080  >  36906 [RST] Seq=1 Win=0 Len=0  \n",
       "1        8080  >  37482 [ACK] Seq=1 Ack=1 Win=509 Len=0...  \n",
       "2        8080  >  56852 [ACK] Seq=1 Ack=1 Win=510 Len=0...  \n",
       "3        8080  >  35596 [ACK] Seq=1 Ack=1 Win=510 Len=0...  \n",
       "4        8080  >  36596 [ACK] Seq=1 Ack=1 Win=510 Len=0...  \n",
       "...                                                    ...  \n",
       "6781491  63831  >  443 [ACK] Seq=114287 Ack=69875 Win=4...  \n",
       "6781492  63831  >  443 [ACK] Seq=114287 Ack=69875 Win=4...  \n",
       "6781493                                   Application Data  \n",
       "6781494  63831  >  443 [ACK] Seq=116134 Ack=69875 Win=4...  \n",
       "6781495                                   Application Data  \n",
       "\n",
       "[6781496 rows x 7 columns]"
      ]
     },
     "execution_count": 6,
     "metadata": {},
     "output_type": "execute_result"
    }
   ],
   "source": [
    "tcpattack = pd.read_csv('datasets/TCPAttack.csv')\n",
    "tcpattack"
   ]
  },
  {
   "cell_type": "code",
   "execution_count": 7,
   "metadata": {},
   "outputs": [
    {
     "data": {
      "application/vnd.microsoft.datawrangler.viewer.v0+json": {
       "columns": [
        {
         "name": "index",
         "rawType": "int64",
         "type": "integer"
        },
        {
         "name": "No.",
         "rawType": "int64",
         "type": "integer"
        },
        {
         "name": "Time",
         "rawType": "float64",
         "type": "float"
        },
        {
         "name": "Source",
         "rawType": "object",
         "type": "string"
        },
        {
         "name": "Destination",
         "rawType": "object",
         "type": "string"
        },
        {
         "name": "Protocol",
         "rawType": "object",
         "type": "string"
        },
        {
         "name": "Length",
         "rawType": "int64",
         "type": "integer"
        },
        {
         "name": "Info",
         "rawType": "object",
         "type": "string"
        }
       ],
       "ref": "96c8a8e2-7f86-43c0-ba12-ecc8d0bb947a",
       "rows": [
        [
         "0",
         "1",
         "0.0",
         "10.10.70.100",
         "10.10.20.3",
         "TCP",
         "66",
         "8080  >  49780 [ACK] Seq=1 Ack=1 Win=509 Len=0 TSval=2689964575 TSecr=1341180348"
        ],
        [
         "1",
         "2",
         "2.7e-05",
         "10.10.70.100",
         "10.10.20.3",
         "TCP",
         "66",
         "[TCP Dup ACK 1#1] 8080  >  49780 [ACK] Seq=1 Ack=1 Win=509 Len=0 TSval=2689964575 TSecr=1341180348"
        ],
        [
         "2",
         "3",
         "6.6e-05",
         "10.10.70.100",
         "10.10.10.13",
         "TCP",
         "60",
         "8080  >  48432 [RST] Seq=1 Win=0 Len=0"
        ],
        [
         "3",
         "4",
         "0.000105",
         "10.10.70.100",
         "10.10.10.13",
         "TCP",
         "60",
         "8080  >  48432 [RST] Seq=1 Win=0 Len=0"
        ],
        [
         "4",
         "5",
         "0.000203",
         "10.10.70.100",
         "10.10.10.13",
         "TCP",
         "66",
         "8080  >  48468 [ACK] Seq=1 Ack=1 Win=509 Len=0 TSval=1541363548 TSecr=2236099040"
        ],
        [
         "5",
         "6",
         "0.000208",
         "10.10.70.100",
         "10.10.10.13",
         "TCP",
         "66",
         "[TCP Dup ACK 5#1] 8080  >  48468 [ACK] Seq=1 Ack=1 Win=509 Len=0 TSval=1541363548 TSecr=2236099040"
        ],
        [
         "6",
         "7",
         "0.000296",
         "10.10.70.100",
         "10.10.20.3",
         "TCP",
         "66",
         "8080  >  49802 [ACK] Seq=1 Ack=1 Win=509 Len=0 TSval=2689964575 TSecr=1341180349"
        ],
        [
         "7",
         "8",
         "0.0003",
         "10.10.70.100",
         "10.10.20.3",
         "TCP",
         "66",
         "[TCP Dup ACK 7#1] 8080  >  49802 [ACK] Seq=1 Ack=1 Win=509 Len=0 TSval=2689964575 TSecr=1341180349"
        ],
        [
         "8",
         "9",
         "0.000358",
         "10.10.70.100",
         "10.10.20.3",
         "TCP",
         "66",
         "8080  >  49790 [ACK] Seq=1 Ack=1 Win=509 Len=0 TSval=2689964575 TSecr=1341180349"
        ],
        [
         "9",
         "10",
         "0.000363",
         "10.10.70.100",
         "10.10.20.3",
         "TCP",
         "66",
         "[TCP Dup ACK 9#1] 8080  >  49790 [ACK] Seq=1 Ack=1 Win=509 Len=0 TSval=2689964575 TSecr=1341180349"
        ],
        [
         "10",
         "11",
         "0.000454",
         "10.10.70.100",
         "10.10.10.13",
         "TCP",
         "66",
         "8080  >  48462 [ACK] Seq=1 Ack=1 Win=509 Len=0 TSval=1541363548 TSecr=2236099041"
        ],
        [
         "11",
         "12",
         "0.000457",
         "10.10.70.100",
         "10.10.10.13",
         "TCP",
         "66",
         "[TCP Dup ACK 11#1] 8080  >  48462 [ACK] Seq=1 Ack=1 Win=509 Len=0 TSval=1541363548 TSecr=2236099041"
        ],
        [
         "12",
         "13",
         "0.000565",
         "10.10.70.100",
         "10.10.10.13",
         "TCP",
         "60",
         "8080  >  48432 [RST] Seq=1 Win=0 Len=0"
        ],
        [
         "13",
         "14",
         "0.000572",
         "10.10.70.100",
         "10.10.10.13",
         "TCP",
         "60",
         "8080  >  48432 [RST] Seq=1 Win=0 Len=0"
        ],
        [
         "14",
         "15",
         "0.000676",
         "10.10.70.100",
         "10.10.20.3",
         "TCP",
         "66",
         "8080  >  49780 [ACK] Seq=1 Ack=13 Win=509 Len=0 TSval=2689964575 TSecr=1341180350"
        ],
        [
         "15",
         "16",
         "0.000679",
         "10.10.70.100",
         "10.10.20.3",
         "TCP",
         "66",
         "[TCP Dup ACK 15#1] 8080  >  49780 [ACK] Seq=1 Ack=13 Win=509 Len=0 TSval=2689964575 TSecr=1341180350"
        ],
        [
         "16",
         "17",
         "0.000771",
         "10.10.70.100",
         "10.10.10.13",
         "TCP",
         "66",
         "8080  >  48468 [ACK] Seq=1 Ack=13 Win=509 Len=0 TSval=1541363548 TSecr=2236099041"
        ],
        [
         "17",
         "18",
         "0.000774",
         "10.10.70.100",
         "10.10.10.13",
         "TCP",
         "66",
         "[TCP Dup ACK 17#1] 8080  >  48468 [ACK] Seq=1 Ack=13 Win=509 Len=0 TSval=1541363548 TSecr=2236099041"
        ],
        [
         "18",
         "19",
         "0.000873",
         "10.10.70.100",
         "10.10.20.3",
         "TCP",
         "66",
         "8080  >  49802 [ACK] Seq=1 Ack=13 Win=509 Len=0 TSval=2689964576 TSecr=1341180350"
        ],
        [
         "19",
         "20",
         "0.000876",
         "10.10.70.100",
         "10.10.20.3",
         "TCP",
         "66",
         "[TCP Dup ACK 19#1] 8080  >  49802 [ACK] Seq=1 Ack=13 Win=509 Len=0 TSval=2689964576 TSecr=1341180350"
        ],
        [
         "20",
         "21",
         "0.001067",
         "10.10.70.100",
         "10.10.20.3",
         "TCP",
         "66",
         "8080  >  49790 [ACK] Seq=1 Ack=13 Win=509 Len=0 TSval=2689964576 TSecr=1341180350"
        ],
        [
         "21",
         "22",
         "0.001075",
         "10.10.70.100",
         "10.10.20.3",
         "TCP",
         "66",
         "[TCP Dup ACK 21#1] 8080  >  49790 [ACK] Seq=1 Ack=13 Win=509 Len=0 TSval=2689964576 TSecr=1341180350"
        ],
        [
         "22",
         "23",
         "0.001182",
         "10.10.70.100",
         "10.10.10.13",
         "TCP",
         "66",
         "8080  >  48462 [ACK] Seq=1 Ack=13 Win=509 Len=0 TSval=1541363549 TSecr=2236099042"
        ],
        [
         "23",
         "24",
         "0.001186",
         "10.10.70.100",
         "10.10.10.13",
         "TCP",
         "66",
         "[TCP Dup ACK 23#1] 8080  >  48462 [ACK] Seq=1 Ack=13 Win=509 Len=0 TSval=1541363549 TSecr=2236099042"
        ],
        [
         "24",
         "25",
         "0.001279",
         "10.10.70.100",
         "10.10.20.3",
         "TCP",
         "66",
         "8080  >  49780 [ACK] Seq=1 Ack=25 Win=509 Len=0 TSval=2689964576 TSecr=1341180351"
        ],
        [
         "25",
         "26",
         "0.001282",
         "10.10.70.100",
         "10.10.20.3",
         "TCP",
         "66",
         "[TCP Dup ACK 25#1] 8080  >  49780 [ACK] Seq=1 Ack=25 Win=509 Len=0 TSval=2689964576 TSecr=1341180351"
        ],
        [
         "26",
         "27",
         "0.001366",
         "10.10.70.100",
         "10.10.10.13",
         "TCP",
         "60",
         "8080  >  48432 [RST] Seq=1 Win=0 Len=0"
        ],
        [
         "27",
         "28",
         "0.001369",
         "10.10.70.100",
         "10.10.10.13",
         "TCP",
         "60",
         "8080  >  48432 [RST] Seq=1 Win=0 Len=0"
        ],
        [
         "28",
         "29",
         "0.001472",
         "10.10.70.100",
         "10.10.10.13",
         "TCP",
         "66",
         "8080  >  48468 [ACK] Seq=1 Ack=25 Win=509 Len=0 TSval=1541363549 TSecr=2236099042"
        ],
        [
         "29",
         "30",
         "0.001496",
         "10.10.70.100",
         "10.10.10.13",
         "TCP",
         "66",
         "[TCP Dup ACK 29#1] 8080  >  48468 [ACK] Seq=1 Ack=25 Win=509 Len=0 TSval=1541363549 TSecr=2236099042"
        ],
        [
         "30",
         "31",
         "0.001571",
         "10.10.70.100",
         "10.10.20.3",
         "TCP",
         "66",
         "8080  >  49802 [ACK] Seq=1 Ack=25 Win=509 Len=0 TSval=2689964576 TSecr=1341180351"
        ],
        [
         "31",
         "32",
         "0.001574",
         "10.10.70.100",
         "10.10.20.3",
         "TCP",
         "66",
         "[TCP Dup ACK 31#1] 8080  >  49802 [ACK] Seq=1 Ack=25 Win=509 Len=0 TSval=2689964576 TSecr=1341180351"
        ],
        [
         "32",
         "33",
         "0.001619",
         "10.10.70.100",
         "10.10.20.3",
         "TCP",
         "66",
         "8080  >  49790 [ACK] Seq=1 Ack=25 Win=509 Len=0 TSval=2689964576 TSecr=1341180351"
        ],
        [
         "33",
         "34",
         "0.001629",
         "10.10.70.100",
         "10.10.20.3",
         "TCP",
         "66",
         "[TCP Dup ACK 33#1] 8080  >  49790 [ACK] Seq=1 Ack=25 Win=509 Len=0 TSval=2689964576 TSecr=1341180351"
        ],
        [
         "34",
         "35",
         "0.001897",
         "10.10.70.100",
         "10.10.20.3",
         "TCP",
         "66",
         "8080  >  49780 [ACK] Seq=1 Ack=37 Win=509 Len=0 TSval=2689964577 TSecr=1341180352"
        ],
        [
         "35",
         "36",
         "0.001921",
         "10.10.10.13",
         "10.10.70.100",
         "TCP",
         "78",
         "48448  >  8080 [PSH, ACK] Seq=1 Ack=1 Win=499 Len=12 TSval=2236099055 TSecr=1541363516 [TCP PDU reassembled in 44]"
        ],
        [
         "36",
         "37",
         "0.001921",
         "10.10.20.3",
         "10.10.70.100",
         "TCP",
         "78",
         "49764  >  8080 [PSH, ACK] Seq=1 Ack=1 Win=502 Len=12 TSval=1341180364 TSecr=2689964542 [TCP PDU reassembled in 45]"
        ],
        [
         "37",
         "38",
         "0.001922",
         "10.10.10.13",
         "10.10.70.100",
         "TCP",
         "78",
         "48484  >  8080 [PSH, ACK] Seq=1 Ack=1 Win=502 Len=12 TSval=2236099056 TSecr=1541363516 [TCP PDU reassembled in 548]"
        ],
        [
         "38",
         "39",
         "0.001923",
         "10.10.20.3",
         "10.10.70.100",
         "TCP",
         "74",
         "49814  >  8080 [SYN] Seq=0 Win=64240 Len=0 MSS=1375 SACK_PERM TSval=1341180364 TSecr=0 WS=128"
        ],
        [
         "39",
         "40",
         "0.001923",
         "10.10.20.3",
         "10.10.70.100",
         "TCP",
         "74",
         "49812  >  8080 [SYN] Seq=0 Win=64240 Len=0 MSS=1375 SACK_PERM TSval=1341180364 TSecr=0 WS=128"
        ],
        [
         "40",
         "41",
         "0.001924",
         "10.10.10.13",
         "10.10.70.100",
         "TCP",
         "78",
         "48448  >  8080 [PSH, ACK] Seq=13 Ack=1 Win=499 Len=12 TSval=2236099056 TSecr=1541363516 [TCP PDU reassembled in 44]"
        ],
        [
         "41",
         "42",
         "0.001925",
         "10.10.20.3",
         "10.10.70.100",
         "TCP",
         "78",
         "49764  >  8080 [PSH, ACK] Seq=13 Ack=1 Win=502 Len=12 TSval=1341180365 TSecr=2689964542 [TCP PDU reassembled in 45]"
        ],
        [
         "42",
         "43",
         "0.001925",
         "10.10.10.13",
         "10.10.70.100",
         "TCP",
         "78",
         "48484  >  8080 [PSH, ACK] Seq=13 Ack=1 Win=502 Len=12 TSval=2236099057 TSecr=1541363516 [TCP PDU reassembled in 548]"
        ],
        [
         "43",
         "44",
         "0.001926",
         "10.10.10.13",
         "10.10.70.100",
         "TCP",
         "78",
         "48448  >  8080 [PSH, ACK] Seq=25 Ack=1 Win=499 Len=12 TSval=2236099057 TSecr=1541363516 [TCP PDU reassembled in 44]"
        ],
        [
         "44",
         "45",
         "0.001926",
         "10.10.20.3",
         "10.10.70.100",
         "TCP",
         "78",
         "49764  >  8080 [PSH, ACK] Seq=25 Ack=1 Win=502 Len=12 TSval=1341180366 TSecr=2689964542 [TCP PDU reassembled in 45]"
        ],
        [
         "45",
         "46",
         "0.001926",
         "10.10.10.13",
         "10.10.70.100",
         "TCP",
         "78",
         "48484  >  8080 [PSH, ACK] Seq=25 Ack=1 Win=502 Len=12 TSval=2236099058 TSecr=1541363516 [TCP PDU reassembled in 548]"
        ],
        [
         "46",
         "47",
         "0.001927",
         "10.10.20.3",
         "10.10.70.100",
         "TCP",
         "66",
         "49764  >  8080 [ACK] Seq=37 Ack=2321 Win=499 Len=0 TSval=1341180367 TSecr=2689964544"
        ],
        [
         "47",
         "48",
         "0.001927",
         "10.10.10.13",
         "10.10.70.100",
         "TCP",
         "78",
         "48484  >  8080 [PSH, ACK] Seq=37 Ack=1 Win=502 Len=12 TSval=2236099059 TSecr=1541363516 [TCP PDU reassembled in 548]"
        ],
        [
         "48",
         "49",
         "0.001928",
         "10.10.10.13",
         "10.10.70.100",
         "TCP",
         "78",
         "48484  >  8080 [PSH, ACK] Seq=49 Ack=1 Win=502 Len=12 TSval=2236099060 TSecr=1541363516 [TCP PDU reassembled in 548]"
        ],
        [
         "49",
         "50",
         "0.001929",
         "10.10.10.13",
         "10.10.70.100",
         "TCP",
         "78",
         "48484  >  8080 [PSH, ACK] Seq=61 Ack=1 Win=502 Len=12 TSval=2236099062 TSecr=1541363516 [TCP PDU reassembled in 548]"
        ]
       ],
       "shape": {
        "columns": 7,
        "rows": 7622706
       }
      },
      "text/html": [
       "<div>\n",
       "<style scoped>\n",
       "    .dataframe tbody tr th:only-of-type {\n",
       "        vertical-align: middle;\n",
       "    }\n",
       "\n",
       "    .dataframe tbody tr th {\n",
       "        vertical-align: top;\n",
       "    }\n",
       "\n",
       "    .dataframe thead th {\n",
       "        text-align: right;\n",
       "    }\n",
       "</style>\n",
       "<table border=\"1\" class=\"dataframe\">\n",
       "  <thead>\n",
       "    <tr style=\"text-align: right;\">\n",
       "      <th></th>\n",
       "      <th>No.</th>\n",
       "      <th>Time</th>\n",
       "      <th>Source</th>\n",
       "      <th>Destination</th>\n",
       "      <th>Protocol</th>\n",
       "      <th>Length</th>\n",
       "      <th>Info</th>\n",
       "    </tr>\n",
       "  </thead>\n",
       "  <tbody>\n",
       "    <tr>\n",
       "      <th>0</th>\n",
       "      <td>1</td>\n",
       "      <td>0.000000</td>\n",
       "      <td>10.10.70.100</td>\n",
       "      <td>10.10.20.3</td>\n",
       "      <td>TCP</td>\n",
       "      <td>66</td>\n",
       "      <td>8080  &gt;  49780 [ACK] Seq=1 Ack=1 Win=509 Len=0...</td>\n",
       "    </tr>\n",
       "    <tr>\n",
       "      <th>1</th>\n",
       "      <td>2</td>\n",
       "      <td>0.000027</td>\n",
       "      <td>10.10.70.100</td>\n",
       "      <td>10.10.20.3</td>\n",
       "      <td>TCP</td>\n",
       "      <td>66</td>\n",
       "      <td>[TCP Dup ACK 1#1] 8080  &gt;  49780 [ACK] Seq=1 A...</td>\n",
       "    </tr>\n",
       "    <tr>\n",
       "      <th>2</th>\n",
       "      <td>3</td>\n",
       "      <td>0.000066</td>\n",
       "      <td>10.10.70.100</td>\n",
       "      <td>10.10.10.13</td>\n",
       "      <td>TCP</td>\n",
       "      <td>60</td>\n",
       "      <td>8080  &gt;  48432 [RST] Seq=1 Win=0 Len=0</td>\n",
       "    </tr>\n",
       "    <tr>\n",
       "      <th>3</th>\n",
       "      <td>4</td>\n",
       "      <td>0.000105</td>\n",
       "      <td>10.10.70.100</td>\n",
       "      <td>10.10.10.13</td>\n",
       "      <td>TCP</td>\n",
       "      <td>60</td>\n",
       "      <td>8080  &gt;  48432 [RST] Seq=1 Win=0 Len=0</td>\n",
       "    </tr>\n",
       "    <tr>\n",
       "      <th>4</th>\n",
       "      <td>5</td>\n",
       "      <td>0.000203</td>\n",
       "      <td>10.10.70.100</td>\n",
       "      <td>10.10.10.13</td>\n",
       "      <td>TCP</td>\n",
       "      <td>66</td>\n",
       "      <td>8080  &gt;  48468 [ACK] Seq=1 Ack=1 Win=509 Len=0...</td>\n",
       "    </tr>\n",
       "    <tr>\n",
       "      <th>...</th>\n",
       "      <td>...</td>\n",
       "      <td>...</td>\n",
       "      <td>...</td>\n",
       "      <td>...</td>\n",
       "      <td>...</td>\n",
       "      <td>...</td>\n",
       "      <td>...</td>\n",
       "    </tr>\n",
       "    <tr>\n",
       "      <th>7622701</th>\n",
       "      <td>7622702</td>\n",
       "      <td>729.197952</td>\n",
       "      <td>10.10.70.100</td>\n",
       "      <td>10.10.20.3</td>\n",
       "      <td>TCP</td>\n",
       "      <td>60</td>\n",
       "      <td>8080  &gt;  53690 [RST] Seq=1 Win=0 Len=0</td>\n",
       "    </tr>\n",
       "    <tr>\n",
       "      <th>7622702</th>\n",
       "      <td>7622703</td>\n",
       "      <td>729.197994</td>\n",
       "      <td>10.10.70.100</td>\n",
       "      <td>10.10.20.3</td>\n",
       "      <td>TCP</td>\n",
       "      <td>60</td>\n",
       "      <td>8080  &gt;  53690 [RST] Seq=1 Win=0 Len=0</td>\n",
       "    </tr>\n",
       "    <tr>\n",
       "      <th>7622703</th>\n",
       "      <td>7622704</td>\n",
       "      <td>729.197997</td>\n",
       "      <td>10.10.70.100</td>\n",
       "      <td>10.10.20.3</td>\n",
       "      <td>TCP</td>\n",
       "      <td>60</td>\n",
       "      <td>8080  &gt;  53690 [RST] Seq=1 Win=0 Len=0</td>\n",
       "    </tr>\n",
       "    <tr>\n",
       "      <th>7622704</th>\n",
       "      <td>7622705</td>\n",
       "      <td>729.198047</td>\n",
       "      <td>10.10.70.100</td>\n",
       "      <td>10.10.20.3</td>\n",
       "      <td>TCP</td>\n",
       "      <td>60</td>\n",
       "      <td>8080  &gt;  53690 [RST] Seq=1 Win=0 Len=0</td>\n",
       "    </tr>\n",
       "    <tr>\n",
       "      <th>7622705</th>\n",
       "      <td>7622706</td>\n",
       "      <td>729.198058</td>\n",
       "      <td>10.10.70.100</td>\n",
       "      <td>10.10.20.3</td>\n",
       "      <td>TCP</td>\n",
       "      <td>60</td>\n",
       "      <td>8080  &gt;  53690 [RST] Seq=1 Win=0 Len=0</td>\n",
       "    </tr>\n",
       "  </tbody>\n",
       "</table>\n",
       "<p>7622706 rows × 7 columns</p>\n",
       "</div>"
      ],
      "text/plain": [
       "             No.        Time        Source  Destination Protocol  Length  \\\n",
       "0              1    0.000000  10.10.70.100   10.10.20.3      TCP      66   \n",
       "1              2    0.000027  10.10.70.100   10.10.20.3      TCP      66   \n",
       "2              3    0.000066  10.10.70.100  10.10.10.13      TCP      60   \n",
       "3              4    0.000105  10.10.70.100  10.10.10.13      TCP      60   \n",
       "4              5    0.000203  10.10.70.100  10.10.10.13      TCP      66   \n",
       "...          ...         ...           ...          ...      ...     ...   \n",
       "7622701  7622702  729.197952  10.10.70.100   10.10.20.3      TCP      60   \n",
       "7622702  7622703  729.197994  10.10.70.100   10.10.20.3      TCP      60   \n",
       "7622703  7622704  729.197997  10.10.70.100   10.10.20.3      TCP      60   \n",
       "7622704  7622705  729.198047  10.10.70.100   10.10.20.3      TCP      60   \n",
       "7622705  7622706  729.198058  10.10.70.100   10.10.20.3      TCP      60   \n",
       "\n",
       "                                                      Info  \n",
       "0        8080  >  49780 [ACK] Seq=1 Ack=1 Win=509 Len=0...  \n",
       "1        [TCP Dup ACK 1#1] 8080  >  49780 [ACK] Seq=1 A...  \n",
       "2                   8080  >  48432 [RST] Seq=1 Win=0 Len=0  \n",
       "3                   8080  >  48432 [RST] Seq=1 Win=0 Len=0  \n",
       "4        8080  >  48468 [ACK] Seq=1 Ack=1 Win=509 Len=0...  \n",
       "...                                                    ...  \n",
       "7622701             8080  >  53690 [RST] Seq=1 Win=0 Len=0  \n",
       "7622702             8080  >  53690 [RST] Seq=1 Win=0 Len=0  \n",
       "7622703             8080  >  53690 [RST] Seq=1 Win=0 Len=0  \n",
       "7622704             8080  >  53690 [RST] Seq=1 Win=0 Len=0  \n",
       "7622705             8080  >  53690 [RST] Seq=1 Win=0 Len=0  \n",
       "\n",
       "[7622706 rows x 7 columns]"
      ]
     },
     "execution_count": 7,
     "metadata": {},
     "output_type": "execute_result"
    }
   ],
   "source": [
    "testBed8080 = pd.read_csv('datasets/TestBed8080.csv')\n",
    "testBed8080"
   ]
  },
  {
   "cell_type": "code",
   "execution_count": 8,
   "metadata": {},
   "outputs": [
    {
     "data": {
      "application/vnd.microsoft.datawrangler.viewer.v0+json": {
       "columns": [
        {
         "name": "index",
         "rawType": "int64",
         "type": "integer"
        },
        {
         "name": "No.",
         "rawType": "int64",
         "type": "integer"
        },
        {
         "name": "Time",
         "rawType": "float64",
         "type": "float"
        },
        {
         "name": "Source",
         "rawType": "object",
         "type": "string"
        },
        {
         "name": "Destination",
         "rawType": "object",
         "type": "string"
        },
        {
         "name": "Protocol",
         "rawType": "object",
         "type": "string"
        },
        {
         "name": "Length",
         "rawType": "int64",
         "type": "integer"
        },
        {
         "name": "Info",
         "rawType": "object",
         "type": "string"
        }
       ],
       "ref": "c9cc79e1-4fa9-4dd8-9caa-a11c1215a4af",
       "rows": [
        [
         "0",
         "1",
         "0.0",
         "10.10.10.13",
         "10.10.70.100",
         "UDP",
         "60",
         "56515  >  8005 Len=12"
        ],
        [
         "1",
         "2",
         "1e-06",
         "10.10.10.13",
         "10.10.70.100",
         "UDP",
         "60",
         "39246  >  8005 Len=12"
        ],
        [
         "2",
         "3",
         "1e-06",
         "10.10.10.14",
         "10.10.70.100",
         "UDP",
         "60",
         "33730  >  8005 Len=12"
        ],
        [
         "3",
         "4",
         "1e-06",
         "10.10.10.16",
         "10.10.70.100",
         "UDP",
         "60",
         "33097  >  8005 Len=12"
        ],
        [
         "4",
         "5",
         "1e-06",
         "10.10.10.13",
         "10.10.70.100",
         "UDP",
         "60",
         "53064  >  8005 Len=12"
        ],
        [
         "5",
         "6",
         "1e-06",
         "10.10.10.16",
         "10.10.70.100",
         "UDP",
         "60",
         "33097  >  8005 Len=12"
        ],
        [
         "6",
         "7",
         "1e-06",
         "10.10.10.14",
         "10.10.70.100",
         "UDP",
         "60",
         "33730  >  8005 Len=12"
        ],
        [
         "7",
         "8",
         "2e-06",
         "10.10.30.8",
         "10.10.70.100",
         "UDP",
         "60",
         "33592  >  8005 Len=12"
        ],
        [
         "8",
         "9",
         "2e-06",
         "10.10.10.13",
         "10.10.70.100",
         "UDP",
         "60",
         "52218  >  8005 Len=12"
        ],
        [
         "9",
         "10",
         "2e-06",
         "10.10.10.16",
         "10.10.70.100",
         "UDP",
         "60",
         "33097  >  8005 Len=12"
        ],
        [
         "10",
         "11",
         "2e-06",
         "10.10.10.13",
         "10.10.70.100",
         "UDP",
         "60",
         "56515  >  8005 Len=12"
        ],
        [
         "11",
         "12",
         "2e-06",
         "10.10.30.5",
         "10.10.70.100",
         "UDP",
         "60",
         "48225  >  8005 Len=12"
        ],
        [
         "12",
         "13",
         "2e-06",
         "10.10.10.14",
         "10.10.70.100",
         "UDP",
         "60",
         "47265  >  8005 Len=12"
        ],
        [
         "13",
         "14",
         "2e-06",
         "10.10.30.5",
         "10.10.70.100",
         "UDP",
         "60",
         "50615  >  8005 Len=12"
        ],
        [
         "14",
         "15",
         "2e-06",
         "10.10.10.13",
         "10.10.70.100",
         "UDP",
         "60",
         "38289  >  8005 Len=12"
        ],
        [
         "15",
         "16",
         "3e-06",
         "10.10.30.8",
         "10.10.70.100",
         "UDP",
         "60",
         "38966  >  8005 Len=12"
        ],
        [
         "16",
         "17",
         "3e-06",
         "10.10.10.13",
         "10.10.70.100",
         "UDP",
         "60",
         "43381  >  8005 Len=12"
        ],
        [
         "17",
         "18",
         "3e-06",
         "10.10.10.16",
         "10.10.70.100",
         "UDP",
         "60",
         "41812  >  8005 Len=12"
        ],
        [
         "18",
         "19",
         "0.001544",
         "10.10.10.14",
         "10.10.70.100",
         "UDP",
         "60",
         "49374  >  8005 Len=12"
        ],
        [
         "19",
         "20",
         "0.001545",
         "10.10.10.16",
         "10.10.70.100",
         "UDP",
         "60",
         "37065  >  8005 Len=12"
        ],
        [
         "20",
         "21",
         "0.001545",
         "10.10.40.4",
         "10.10.70.100",
         "UDP",
         "60",
         "57821  >  8005 Len=12"
        ],
        [
         "21",
         "22",
         "0.001545",
         "10.10.10.14",
         "10.10.70.100",
         "UDP",
         "60",
         "44870  >  8005 Len=12"
        ],
        [
         "22",
         "23",
         "0.001545",
         "10.10.10.16",
         "10.10.70.100",
         "UDP",
         "60",
         "58462  >  8005 Len=12"
        ],
        [
         "23",
         "24",
         "0.001545",
         "10.10.10.13",
         "10.10.70.100",
         "UDP",
         "60",
         "38289  >  8005 Len=12"
        ],
        [
         "24",
         "25",
         "0.001546",
         "10.10.30.8",
         "10.10.70.100",
         "UDP",
         "60",
         "41131  >  8005 Len=12"
        ],
        [
         "25",
         "26",
         "0.001546",
         "10.10.10.14",
         "10.10.70.100",
         "UDP",
         "60",
         "49407  >  8005 Len=12"
        ],
        [
         "26",
         "27",
         "0.001546",
         "10.10.40.4",
         "10.10.70.100",
         "UDP",
         "60",
         "44087  >  8005 Len=12"
        ],
        [
         "27",
         "28",
         "0.001546",
         "10.10.30.8",
         "10.10.70.100",
         "UDP",
         "60",
         "44894  >  8005 Len=12"
        ],
        [
         "28",
         "29",
         "0.001546",
         "10.10.40.6",
         "10.10.70.100",
         "UDP",
         "60",
         "50190  >  8005 Len=12"
        ],
        [
         "29",
         "30",
         "0.001546",
         "10.10.30.8",
         "10.10.70.100",
         "UDP",
         "60",
         "44894  >  8005 Len=12"
        ],
        [
         "30",
         "31",
         "0.001555",
         "10.10.30.8",
         "10.10.70.100",
         "UDP",
         "60",
         "37368  >  8005 Len=12"
        ],
        [
         "31",
         "32",
         "0.001555",
         "10.10.30.5",
         "10.10.70.100",
         "UDP",
         "60",
         "56796  >  8005 Len=12"
        ],
        [
         "32",
         "33",
         "0.001555",
         "10.10.40.4",
         "10.10.70.100",
         "UDP",
         "60",
         "44087  >  8005 Len=12"
        ],
        [
         "33",
         "34",
         "0.001555",
         "10.10.10.16",
         "10.10.70.100",
         "UDP",
         "60",
         "36888  >  8005 Len=12"
        ],
        [
         "34",
         "35",
         "0.001555",
         "10.10.30.8",
         "10.10.70.100",
         "UDP",
         "60",
         "37368  >  8005 Len=12"
        ],
        [
         "35",
         "36",
         "0.001555",
         "10.10.10.16",
         "10.10.70.100",
         "UDP",
         "60",
         "36888  >  8005 Len=12"
        ],
        [
         "36",
         "37",
         "0.001556",
         "10.10.30.8",
         "10.10.70.100",
         "UDP",
         "60",
         "39883  >  8005 Len=12"
        ],
        [
         "37",
         "38",
         "0.001556",
         "10.10.30.4",
         "10.10.70.100",
         "UDP",
         "60",
         "45295  >  8005 Len=12"
        ],
        [
         "38",
         "39",
         "0.001556",
         "10.10.30.5",
         "10.10.70.100",
         "UDP",
         "60",
         "51077  >  8005 Len=12"
        ],
        [
         "39",
         "40",
         "0.001556",
         "10.10.10.14",
         "10.10.70.100",
         "UDP",
         "60",
         "60063  >  8005 Len=12"
        ],
        [
         "40",
         "41",
         "0.001556",
         "10.10.30.5",
         "10.10.70.100",
         "UDP",
         "60",
         "58467  >  8005 Len=12"
        ],
        [
         "41",
         "42",
         "0.001556",
         "10.10.30.5",
         "10.10.70.100",
         "UDP",
         "60",
         "48225  >  8005 Len=12"
        ],
        [
         "42",
         "43",
         "0.001557",
         "10.10.40.4",
         "10.10.70.100",
         "UDP",
         "60",
         "56951  >  8005 Len=12"
        ],
        [
         "43",
         "44",
         "0.001557",
         "10.10.10.16",
         "10.10.70.100",
         "UDP",
         "60",
         "58462  >  8005 Len=12"
        ],
        [
         "44",
         "45",
         "0.001557",
         "10.10.30.8",
         "10.10.70.100",
         "UDP",
         "60",
         "33592  >  8005 Len=12"
        ],
        [
         "45",
         "46",
         "0.001557",
         "10.10.40.4",
         "10.10.70.100",
         "UDP",
         "60",
         "43482  >  8005 Len=12"
        ],
        [
         "46",
         "47",
         "0.001557",
         "10.10.10.13",
         "10.10.70.100",
         "UDP",
         "60",
         "36267  >  8005 Len=12"
        ],
        [
         "47",
         "48",
         "0.001558",
         "10.10.40.4",
         "10.10.70.100",
         "UDP",
         "60",
         "57821  >  8005 Len=12"
        ],
        [
         "48",
         "49",
         "0.001558",
         "10.10.30.8",
         "10.10.70.100",
         "UDP",
         "60",
         "38966  >  8005 Len=12"
        ],
        [
         "49",
         "50",
         "0.001558",
         "10.10.30.8",
         "10.10.70.100",
         "UDP",
         "60",
         "44894  >  8005 Len=12"
        ]
       ],
       "shape": {
        "columns": 7,
        "rows": 5490395
       }
      },
      "text/html": [
       "<div>\n",
       "<style scoped>\n",
       "    .dataframe tbody tr th:only-of-type {\n",
       "        vertical-align: middle;\n",
       "    }\n",
       "\n",
       "    .dataframe tbody tr th {\n",
       "        vertical-align: top;\n",
       "    }\n",
       "\n",
       "    .dataframe thead th {\n",
       "        text-align: right;\n",
       "    }\n",
       "</style>\n",
       "<table border=\"1\" class=\"dataframe\">\n",
       "  <thead>\n",
       "    <tr style=\"text-align: right;\">\n",
       "      <th></th>\n",
       "      <th>No.</th>\n",
       "      <th>Time</th>\n",
       "      <th>Source</th>\n",
       "      <th>Destination</th>\n",
       "      <th>Protocol</th>\n",
       "      <th>Length</th>\n",
       "      <th>Info</th>\n",
       "    </tr>\n",
       "  </thead>\n",
       "  <tbody>\n",
       "    <tr>\n",
       "      <th>0</th>\n",
       "      <td>1</td>\n",
       "      <td>0.000000</td>\n",
       "      <td>10.10.10.13</td>\n",
       "      <td>10.10.70.100</td>\n",
       "      <td>UDP</td>\n",
       "      <td>60</td>\n",
       "      <td>56515  &gt;  8005 Len=12</td>\n",
       "    </tr>\n",
       "    <tr>\n",
       "      <th>1</th>\n",
       "      <td>2</td>\n",
       "      <td>0.000001</td>\n",
       "      <td>10.10.10.13</td>\n",
       "      <td>10.10.70.100</td>\n",
       "      <td>UDP</td>\n",
       "      <td>60</td>\n",
       "      <td>39246  &gt;  8005 Len=12</td>\n",
       "    </tr>\n",
       "    <tr>\n",
       "      <th>2</th>\n",
       "      <td>3</td>\n",
       "      <td>0.000001</td>\n",
       "      <td>10.10.10.14</td>\n",
       "      <td>10.10.70.100</td>\n",
       "      <td>UDP</td>\n",
       "      <td>60</td>\n",
       "      <td>33730  &gt;  8005 Len=12</td>\n",
       "    </tr>\n",
       "    <tr>\n",
       "      <th>3</th>\n",
       "      <td>4</td>\n",
       "      <td>0.000001</td>\n",
       "      <td>10.10.10.16</td>\n",
       "      <td>10.10.70.100</td>\n",
       "      <td>UDP</td>\n",
       "      <td>60</td>\n",
       "      <td>33097  &gt;  8005 Len=12</td>\n",
       "    </tr>\n",
       "    <tr>\n",
       "      <th>4</th>\n",
       "      <td>5</td>\n",
       "      <td>0.000001</td>\n",
       "      <td>10.10.10.13</td>\n",
       "      <td>10.10.70.100</td>\n",
       "      <td>UDP</td>\n",
       "      <td>60</td>\n",
       "      <td>53064  &gt;  8005 Len=12</td>\n",
       "    </tr>\n",
       "    <tr>\n",
       "      <th>...</th>\n",
       "      <td>...</td>\n",
       "      <td>...</td>\n",
       "      <td>...</td>\n",
       "      <td>...</td>\n",
       "      <td>...</td>\n",
       "      <td>...</td>\n",
       "      <td>...</td>\n",
       "    </tr>\n",
       "    <tr>\n",
       "      <th>5490390</th>\n",
       "      <td>5490391</td>\n",
       "      <td>2713.312117</td>\n",
       "      <td>10.10.30.8</td>\n",
       "      <td>10.10.70.100</td>\n",
       "      <td>UDP</td>\n",
       "      <td>60</td>\n",
       "      <td>54817  &gt;  8005 Len=12</td>\n",
       "    </tr>\n",
       "    <tr>\n",
       "      <th>5490391</th>\n",
       "      <td>5490392</td>\n",
       "      <td>2713.312118</td>\n",
       "      <td>10.10.30.8</td>\n",
       "      <td>10.10.70.100</td>\n",
       "      <td>UDP</td>\n",
       "      <td>60</td>\n",
       "      <td>37368  &gt;  8005 Len=12</td>\n",
       "    </tr>\n",
       "    <tr>\n",
       "      <th>5490392</th>\n",
       "      <td>5490393</td>\n",
       "      <td>2713.312118</td>\n",
       "      <td>10.10.30.8</td>\n",
       "      <td>10.10.70.100</td>\n",
       "      <td>UDP</td>\n",
       "      <td>60</td>\n",
       "      <td>38966  &gt;  8005 Len=12</td>\n",
       "    </tr>\n",
       "    <tr>\n",
       "      <th>5490393</th>\n",
       "      <td>5490394</td>\n",
       "      <td>2713.312118</td>\n",
       "      <td>10.10.30.8</td>\n",
       "      <td>10.10.70.100</td>\n",
       "      <td>UDP</td>\n",
       "      <td>60</td>\n",
       "      <td>37122  &gt;  8005 Len=12</td>\n",
       "    </tr>\n",
       "    <tr>\n",
       "      <th>5490394</th>\n",
       "      <td>5490395</td>\n",
       "      <td>2713.312118</td>\n",
       "      <td>10.10.30.8</td>\n",
       "      <td>10.10.70.100</td>\n",
       "      <td>UDP</td>\n",
       "      <td>60</td>\n",
       "      <td>44894  &gt;  8005 Len=12</td>\n",
       "    </tr>\n",
       "  </tbody>\n",
       "</table>\n",
       "<p>5490395 rows × 7 columns</p>\n",
       "</div>"
      ],
      "text/plain": [
       "             No.         Time       Source   Destination Protocol  Length  \\\n",
       "0              1     0.000000  10.10.10.13  10.10.70.100      UDP      60   \n",
       "1              2     0.000001  10.10.10.13  10.10.70.100      UDP      60   \n",
       "2              3     0.000001  10.10.10.14  10.10.70.100      UDP      60   \n",
       "3              4     0.000001  10.10.10.16  10.10.70.100      UDP      60   \n",
       "4              5     0.000001  10.10.10.13  10.10.70.100      UDP      60   \n",
       "...          ...          ...          ...           ...      ...     ...   \n",
       "5490390  5490391  2713.312117   10.10.30.8  10.10.70.100      UDP      60   \n",
       "5490391  5490392  2713.312118   10.10.30.8  10.10.70.100      UDP      60   \n",
       "5490392  5490393  2713.312118   10.10.30.8  10.10.70.100      UDP      60   \n",
       "5490393  5490394  2713.312118   10.10.30.8  10.10.70.100      UDP      60   \n",
       "5490394  5490395  2713.312118   10.10.30.8  10.10.70.100      UDP      60   \n",
       "\n",
       "                          Info  \n",
       "0        56515  >  8005 Len=12  \n",
       "1        39246  >  8005 Len=12  \n",
       "2        33730  >  8005 Len=12  \n",
       "3        33097  >  8005 Len=12  \n",
       "4        53064  >  8005 Len=12  \n",
       "...                        ...  \n",
       "5490390  54817  >  8005 Len=12  \n",
       "5490391  37368  >  8005 Len=12  \n",
       "5490392  38966  >  8005 Len=12  \n",
       "5490393  37122  >  8005 Len=12  \n",
       "5490394  44894  >  8005 Len=12  \n",
       "\n",
       "[5490395 rows x 7 columns]"
      ]
     },
     "execution_count": 8,
     "metadata": {},
     "output_type": "execute_result"
    }
   ],
   "source": [
    "udp8005 = pd.read_csv('datasets/UDP8005.csv')\n",
    "udp8005"
   ]
  },
  {
   "cell_type": "markdown",
   "metadata": {},
   "source": [
    "## Concatenate All Datasets"
   ]
  },
  {
   "cell_type": "code",
   "execution_count": 9,
   "metadata": {},
   "outputs": [],
   "source": [
    "df = [recoil300, tcp3008, tcp8080, tcpattack, testBed8080, udp8005]\n",
    "df = pd.concat(df, ignore_index=True) "
   ]
  },
  {
   "cell_type": "code",
   "execution_count": 10,
   "metadata": {},
   "outputs": [
    {
     "data": {
      "application/vnd.microsoft.datawrangler.viewer.v0+json": {
       "columns": [
        {
         "name": "index",
         "rawType": "int64",
         "type": "integer"
        },
        {
         "name": "No.",
         "rawType": "int64",
         "type": "integer"
        },
        {
         "name": "Time",
         "rawType": "float64",
         "type": "float"
        },
        {
         "name": "Source",
         "rawType": "object",
         "type": "string"
        },
        {
         "name": "Destination",
         "rawType": "object",
         "type": "string"
        },
        {
         "name": "Protocol",
         "rawType": "object",
         "type": "string"
        },
        {
         "name": "Length",
         "rawType": "int64",
         "type": "integer"
        },
        {
         "name": "Info",
         "rawType": "object",
         "type": "string"
        }
       ],
       "ref": "4dff627e-de4e-4f00-a37e-6b007415870e",
       "rows": [
        [
         "0",
         "1",
         "0.0",
         "10.10.70.3",
         "74.125.196.109",
         "TLSv1.2",
         "72",
         "Change Cipher Spec"
        ],
        [
         "1",
         "2",
         "0.023837",
         "10.10.70.100",
         "34.107.221.82",
         "TCP",
         "66",
         "47388  >  80 [ACK] Seq=1 Ack=1 Win=501 Len=0 TSval=1947581574 TSecr=2000853192"
        ],
        [
         "2",
         "3",
         "0.101698",
         "10.10.70.3",
         "74.125.196.109",
         "TLSv1.2",
         "111",
         "Encrypted Handshake Message"
        ],
        [
         "3",
         "4",
         "0.149868",
         "34.107.221.82",
         "10.10.70.100",
         "TCP",
         "66",
         "[TCP ACKed unseen segment] 80  >  47388 [ACK] Seq=1 Ack=2 Win=265 Len=0 TSval=2000863529 TSecr=1947468818"
        ],
        [
         "4",
         "5",
         "0.15333",
         "10.10.70.3",
         "74.125.196.109",
         "TCP",
         "66",
         "63289  >  993 [ACK] Seq=52 Ack=96 Win=43 Len=0 TSval=4009956376 TSecr=1280805204"
        ],
        [
         "5",
         "6",
         "0.158121",
         "10.10.70.3",
         "74.125.196.109",
         "TLSv1.2",
         "109",
         "Application Data"
        ],
        [
         "6",
         "7",
         "0.207899",
         "10.10.70.3",
         "74.125.196.109",
         "TCP",
         "66",
         "63289  >  993 [ACK] Seq=95 Ack=330 Win=43 Len=0 TSval=4009956430 TSecr=1280805258"
        ],
        [
         "7",
         "8",
         "0.210952",
         "10.10.70.3",
         "74.125.196.109",
         "TLSv1.2",
         "480",
         "Application Data"
        ],
        [
         "8",
         "9",
         "0.263914",
         "10.10.40.3",
         "10.10.70.100",
         "TCP",
         "74",
         "38880  >  3000 [SYN] Seq=0 Win=64240 Len=0 MSS=1375 SACK_PERM TSval=769594520 TSecr=0 WS=128"
        ],
        [
         "9",
         "10",
         "0.264729",
         "10.10.70.100",
         "10.10.40.3",
         "TCP",
         "60",
         "3000  >  38880 [RST, ACK] Seq=1 Ack=1 Win=0 Len=0"
        ],
        [
         "10",
         "11",
         "0.309754",
         "10.10.70.3",
         "74.125.196.109",
         "TCP",
         "66",
         "63289  >  993 [ACK] Seq=509 Ack=459 Win=43 Len=0 TSval=4009956532 TSecr=1280805359"
        ],
        [
         "11",
         "12",
         "0.309946",
         "10.10.70.3",
         "74.125.196.109",
         "TLSv1.2",
         "97",
         "Application Data"
        ],
        [
         "12",
         "13",
         "0.359039",
         "10.10.70.3",
         "74.125.196.109",
         "TCP",
         "66",
         "63289  >  993 [ACK] Seq=540 Ack=547 Win=43 Len=0 TSval=4009956581 TSecr=1280805409"
        ],
        [
         "13",
         "14",
         "0.400189",
         "10.10.70.3",
         "172.217.203.84",
         "QUIC",
         "1242",
         "Initial, DCID=297114b14caceab0, PKN: 0, CRYPTO, PADDING"
        ],
        [
         "14",
         "15",
         "0.457204",
         "10.10.70.3",
         "172.217.203.84",
         "QUIC",
         "1242",
         "Initial, DCID=e97114b14caceab0"
        ],
        [
         "15",
         "16",
         "0.457205",
         "10.10.70.3",
         "172.217.203.84",
         "QUIC",
         "81",
         "Handshake, DCID=e97114b14caceab0"
        ],
        [
         "16",
         "17",
         "0.45778",
         "10.10.70.3",
         "172.217.203.84",
         "QUIC",
         "81",
         "Handshake, DCID=e97114b14caceab0"
        ],
        [
         "17",
         "18",
         "0.513364",
         "10.10.70.3",
         "172.217.203.84",
         "QUIC",
         "81",
         "Handshake, DCID=e97114b14caceab0"
        ],
        [
         "18",
         "19",
         "0.536883",
         "10.10.70.100",
         "34.107.221.82",
         "TCP",
         "66",
         "47398  >  80 [ACK] Seq=1 Ack=1 Win=501 Len=0 TSval=1947582086 TSecr=164343632"
        ],
        [
         "19",
         "20",
         "0.55379",
         "10.10.70.3",
         "172.217.203.84",
         "QUIC",
         "115",
         "Handshake, DCID=e97114b14caceab0"
        ],
        [
         "20",
         "21",
         "0.555345",
         "10.10.70.3",
         "172.217.203.84",
         "QUIC",
         "73",
         "Protected Payload (KP0)"
        ],
        [
         "21",
         "22",
         "0.555879",
         "10.10.70.3",
         "172.217.203.84",
         "QUIC",
         "92",
         "Protected Payload (KP0)"
        ],
        [
         "22",
         "23",
         "0.556311",
         "10.10.70.3",
         "172.217.203.84",
         "QUIC",
         "393",
         "Protected Payload (KP0)"
        ],
        [
         "23",
         "24",
         "0.556532",
         "10.10.70.3",
         "172.217.203.84",
         "QUIC",
         "76",
         "Protected Payload (KP0)"
        ],
        [
         "24",
         "25",
         "0.556937",
         "10.10.70.3",
         "172.217.203.84",
         "QUIC",
         "345",
         "Protected Payload (KP0)"
        ],
        [
         "25",
         "26",
         "0.629482",
         "34.107.221.82",
         "10.10.70.100",
         "TCP",
         "66",
         "[TCP ACKed unseen segment] 80  >  47398 [ACK] Seq=1 Ack=2 Win=265 Len=0 TSval=164353890 TSecr=1947468909"
        ],
        [
         "26",
         "27",
         "0.700248",
         "10.10.70.3",
         "172.217.203.84",
         "QUIC",
         "73",
         "Protected Payload (KP0)"
        ],
        [
         "27",
         "28",
         "0.700257",
         "10.10.70.3",
         "172.217.203.84",
         "QUIC",
         "1294",
         "Protected Payload (KP0)"
        ],
        [
         "28",
         "29",
         "0.706416",
         "10.10.70.3",
         "172.217.203.84",
         "QUIC",
         "73",
         "Protected Payload (KP0)"
        ],
        [
         "29",
         "30",
         "0.706699",
         "10.10.70.3",
         "172.217.203.84",
         "QUIC",
         "73",
         "Protected Payload (KP0)"
        ],
        [
         "30",
         "31",
         "0.713101",
         "10.10.70.3",
         "172.217.203.84",
         "QUIC",
         "73",
         "Protected Payload (KP0)"
        ],
        [
         "31",
         "32",
         "0.716748",
         "10.10.70.3",
         "172.217.203.84",
         "QUIC",
         "72",
         "Protected Payload (KP0)"
        ],
        [
         "32",
         "33",
         "0.753248",
         "10.10.70.3",
         "74.125.196.109",
         "TCP",
         "66",
         "63289  >  993 [FIN, ACK] Seq=540 Ack=547 Win=43 Len=0 TSval=4009956975 TSecr=1280805409"
        ],
        [
         "33",
         "34",
         "0.754964",
         "10.10.70.3",
         "74.125.196.109",
         "TCP",
         "78",
         "63290  >  993 [SYN] Seq=0 Win=65535 Len=0 MSS=1460 WS=64 TSval=4112308984 TSecr=0 SACK_PERM"
        ],
        [
         "34",
         "35",
         "0.759772",
         "10.10.70.3",
         "172.217.203.84",
         "ICMP",
         "70",
         "Destination unreachable (Port unreachable)"
        ],
        [
         "35",
         "36",
         "0.814661",
         "10.10.70.3",
         "74.125.196.109",
         "TCP",
         "66",
         "63289  >  993 [ACK] Seq=541 Ack=548 Win=43 Len=0 TSval=4009957037 TSecr=1280805863"
        ],
        [
         "36",
         "37",
         "0.816604",
         "10.10.70.3",
         "74.125.196.109",
         "TCP",
         "66",
         "63290  >  993 [ACK] Seq=1 Ack=1 Win=2752 Len=0 TSval=4112309046 TSecr=1538947422"
        ],
        [
         "37",
         "38",
         "0.850017",
         "10.10.70.3",
         "74.125.196.109",
         "TLSv1.2",
         "272",
         "Client Hello (SNI=imap.gmail.com)"
        ],
        [
         "38",
         "39",
         "0.874308",
         "10.10.70.3",
         "172.217.15.202",
         "TCP",
         "66",
         "59296  >  443 [ACK] Seq=1 Ack=1 Win=2048 Len=0 TSval=4014408658 TSecr=69265929"
        ],
        [
         "39",
         "40",
         "0.884754",
         "10.10.70.3",
         "3.91.140.57",
         "TLSv1.2",
         "130",
         "Application Data"
        ],
        [
         "40",
         "41",
         "0.885022",
         "10.10.70.3",
         "3.91.140.57",
         "TCP",
         "1429",
         "63212  >  443 [ACK] Seq=65 Ack=1 Win=2048 Len=1363 TSval=3893434662 TSecr=1708532786 [TCP PDU reassembled in 42]"
        ],
        [
         "41",
         "42",
         "0.885022",
         "10.10.70.3",
         "3.91.140.57",
         "TLSv1.2",
         "575",
         "Application Data"
        ],
        [
         "42",
         "43",
         "0.903322",
         "10.10.70.3",
         "74.125.196.109",
         "TCP",
         "66",
         "63290  >  993 [ACK] Seq=207 Ack=148 Win=2752 Len=0 TSval=4112309133 TSecr=1538947509"
        ],
        [
         "43",
         "44",
         "0.903824",
         "10.10.70.3",
         "74.125.196.109",
         "TLSv1.2",
         "72",
         "Change Cipher Spec"
        ],
        [
         "44",
         "45",
         "1.019995",
         "10.10.70.3",
         "3.91.140.57",
         "TCP",
         "66",
         "63212  >  443 [ACK] Seq=1937 Ack=372 Win=2042 Len=0 TSval=3893434797 TSecr=1708592567"
        ],
        [
         "45",
         "46",
         "1.019996",
         "10.10.70.3",
         "74.125.196.109",
         "TLSv1.2",
         "111",
         "Encrypted Handshake Message"
        ],
        [
         "46",
         "47",
         "1.150506",
         "10.10.70.3",
         "74.125.196.109",
         "TCP",
         "66",
         "63290  >  993 [ACK] Seq=258 Ack=242 Win=2752 Len=0 TSval=4112309380 TSecr=1538947680"
        ],
        [
         "47",
         "48",
         "1.154128",
         "10.10.70.3",
         "74.125.196.109",
         "TLSv1.2",
         "109",
         "Application Data"
        ],
        [
         "48",
         "49",
         "1.204855",
         "10.10.70.3",
         "74.125.196.109",
         "TCP",
         "66",
         "63290  >  993 [ACK] Seq=301 Ack=475 Win=2752 Len=0 TSval=4112309434 TSecr=1538947812"
        ],
        [
         "49",
         "50",
         "1.205112",
         "10.10.70.3",
         "74.125.196.109",
         "TLSv1.2",
         "480",
         "Application Data"
        ]
       ],
       "shape": {
        "columns": 7,
        "rows": 36388211
       }
      },
      "text/html": [
       "<div>\n",
       "<style scoped>\n",
       "    .dataframe tbody tr th:only-of-type {\n",
       "        vertical-align: middle;\n",
       "    }\n",
       "\n",
       "    .dataframe tbody tr th {\n",
       "        vertical-align: top;\n",
       "    }\n",
       "\n",
       "    .dataframe thead th {\n",
       "        text-align: right;\n",
       "    }\n",
       "</style>\n",
       "<table border=\"1\" class=\"dataframe\">\n",
       "  <thead>\n",
       "    <tr style=\"text-align: right;\">\n",
       "      <th></th>\n",
       "      <th>No.</th>\n",
       "      <th>Time</th>\n",
       "      <th>Source</th>\n",
       "      <th>Destination</th>\n",
       "      <th>Protocol</th>\n",
       "      <th>Length</th>\n",
       "      <th>Info</th>\n",
       "    </tr>\n",
       "  </thead>\n",
       "  <tbody>\n",
       "    <tr>\n",
       "      <th>0</th>\n",
       "      <td>1</td>\n",
       "      <td>0.000000</td>\n",
       "      <td>10.10.70.3</td>\n",
       "      <td>74.125.196.109</td>\n",
       "      <td>TLSv1.2</td>\n",
       "      <td>72</td>\n",
       "      <td>Change Cipher Spec</td>\n",
       "    </tr>\n",
       "    <tr>\n",
       "      <th>1</th>\n",
       "      <td>2</td>\n",
       "      <td>0.023837</td>\n",
       "      <td>10.10.70.100</td>\n",
       "      <td>34.107.221.82</td>\n",
       "      <td>TCP</td>\n",
       "      <td>66</td>\n",
       "      <td>47388  &gt;  80 [ACK] Seq=1 Ack=1 Win=501 Len=0 T...</td>\n",
       "    </tr>\n",
       "    <tr>\n",
       "      <th>2</th>\n",
       "      <td>3</td>\n",
       "      <td>0.101698</td>\n",
       "      <td>10.10.70.3</td>\n",
       "      <td>74.125.196.109</td>\n",
       "      <td>TLSv1.2</td>\n",
       "      <td>111</td>\n",
       "      <td>Encrypted Handshake Message</td>\n",
       "    </tr>\n",
       "    <tr>\n",
       "      <th>3</th>\n",
       "      <td>4</td>\n",
       "      <td>0.149868</td>\n",
       "      <td>34.107.221.82</td>\n",
       "      <td>10.10.70.100</td>\n",
       "      <td>TCP</td>\n",
       "      <td>66</td>\n",
       "      <td>[TCP ACKed unseen segment] 80  &gt;  47388 [ACK] ...</td>\n",
       "    </tr>\n",
       "    <tr>\n",
       "      <th>4</th>\n",
       "      <td>5</td>\n",
       "      <td>0.153330</td>\n",
       "      <td>10.10.70.3</td>\n",
       "      <td>74.125.196.109</td>\n",
       "      <td>TCP</td>\n",
       "      <td>66</td>\n",
       "      <td>63289  &gt;  993 [ACK] Seq=52 Ack=96 Win=43 Len=0...</td>\n",
       "    </tr>\n",
       "    <tr>\n",
       "      <th>...</th>\n",
       "      <td>...</td>\n",
       "      <td>...</td>\n",
       "      <td>...</td>\n",
       "      <td>...</td>\n",
       "      <td>...</td>\n",
       "      <td>...</td>\n",
       "      <td>...</td>\n",
       "    </tr>\n",
       "    <tr>\n",
       "      <th>36388206</th>\n",
       "      <td>5490391</td>\n",
       "      <td>2713.312117</td>\n",
       "      <td>10.10.30.8</td>\n",
       "      <td>10.10.70.100</td>\n",
       "      <td>UDP</td>\n",
       "      <td>60</td>\n",
       "      <td>54817  &gt;  8005 Len=12</td>\n",
       "    </tr>\n",
       "    <tr>\n",
       "      <th>36388207</th>\n",
       "      <td>5490392</td>\n",
       "      <td>2713.312118</td>\n",
       "      <td>10.10.30.8</td>\n",
       "      <td>10.10.70.100</td>\n",
       "      <td>UDP</td>\n",
       "      <td>60</td>\n",
       "      <td>37368  &gt;  8005 Len=12</td>\n",
       "    </tr>\n",
       "    <tr>\n",
       "      <th>36388208</th>\n",
       "      <td>5490393</td>\n",
       "      <td>2713.312118</td>\n",
       "      <td>10.10.30.8</td>\n",
       "      <td>10.10.70.100</td>\n",
       "      <td>UDP</td>\n",
       "      <td>60</td>\n",
       "      <td>38966  &gt;  8005 Len=12</td>\n",
       "    </tr>\n",
       "    <tr>\n",
       "      <th>36388209</th>\n",
       "      <td>5490394</td>\n",
       "      <td>2713.312118</td>\n",
       "      <td>10.10.30.8</td>\n",
       "      <td>10.10.70.100</td>\n",
       "      <td>UDP</td>\n",
       "      <td>60</td>\n",
       "      <td>37122  &gt;  8005 Len=12</td>\n",
       "    </tr>\n",
       "    <tr>\n",
       "      <th>36388210</th>\n",
       "      <td>5490395</td>\n",
       "      <td>2713.312118</td>\n",
       "      <td>10.10.30.8</td>\n",
       "      <td>10.10.70.100</td>\n",
       "      <td>UDP</td>\n",
       "      <td>60</td>\n",
       "      <td>44894  &gt;  8005 Len=12</td>\n",
       "    </tr>\n",
       "  </tbody>\n",
       "</table>\n",
       "<p>36388211 rows × 7 columns</p>\n",
       "</div>"
      ],
      "text/plain": [
       "              No.         Time         Source     Destination Protocol  \\\n",
       "0               1     0.000000     10.10.70.3  74.125.196.109  TLSv1.2   \n",
       "1               2     0.023837   10.10.70.100   34.107.221.82      TCP   \n",
       "2               3     0.101698     10.10.70.3  74.125.196.109  TLSv1.2   \n",
       "3               4     0.149868  34.107.221.82    10.10.70.100      TCP   \n",
       "4               5     0.153330     10.10.70.3  74.125.196.109      TCP   \n",
       "...           ...          ...            ...             ...      ...   \n",
       "36388206  5490391  2713.312117     10.10.30.8    10.10.70.100      UDP   \n",
       "36388207  5490392  2713.312118     10.10.30.8    10.10.70.100      UDP   \n",
       "36388208  5490393  2713.312118     10.10.30.8    10.10.70.100      UDP   \n",
       "36388209  5490394  2713.312118     10.10.30.8    10.10.70.100      UDP   \n",
       "36388210  5490395  2713.312118     10.10.30.8    10.10.70.100      UDP   \n",
       "\n",
       "          Length                                               Info  \n",
       "0             72                                 Change Cipher Spec  \n",
       "1             66  47388  >  80 [ACK] Seq=1 Ack=1 Win=501 Len=0 T...  \n",
       "2            111                        Encrypted Handshake Message  \n",
       "3             66  [TCP ACKed unseen segment] 80  >  47388 [ACK] ...  \n",
       "4             66  63289  >  993 [ACK] Seq=52 Ack=96 Win=43 Len=0...  \n",
       "...          ...                                                ...  \n",
       "36388206      60                              54817  >  8005 Len=12  \n",
       "36388207      60                              37368  >  8005 Len=12  \n",
       "36388208      60                              38966  >  8005 Len=12  \n",
       "36388209      60                              37122  >  8005 Len=12  \n",
       "36388210      60                              44894  >  8005 Len=12  \n",
       "\n",
       "[36388211 rows x 7 columns]"
      ]
     },
     "execution_count": 10,
     "metadata": {},
     "output_type": "execute_result"
    }
   ],
   "source": [
    "df"
   ]
  },
  {
   "cell_type": "code",
   "execution_count": 11,
   "metadata": {},
   "outputs": [
    {
     "data": {
      "text/plain": [
       "Index(['No.', 'Time', 'Source', 'Destination', 'Protocol', 'Length', 'Info'], dtype='object')"
      ]
     },
     "execution_count": 11,
     "metadata": {},
     "output_type": "execute_result"
    }
   ],
   "source": [
    "df.columns"
   ]
  },
  {
   "cell_type": "markdown",
   "metadata": {},
   "source": [
    "# Exploratory Data Analysis (EDA)"
   ]
  },
  {
   "cell_type": "code",
   "execution_count": 9,
   "metadata": {},
   "outputs": [
    {
     "name": "stdout",
     "output_type": "stream",
     "text": [
      "Volume per hour:\n",
      " Time\n",
      "1970-01-01    344098236\n",
      "Freq: h, Name: Length, dtype: int64\n"
     ]
    },
    {
     "name": "stderr",
     "output_type": "stream",
     "text": [
      "/tmp/ipykernel_700587/1916900118.py:3: FutureWarning: 'H' is deprecated and will be removed in a future version, please use 'h' instead.\n",
      "  volume_per_hour = udp8005['Length'].resample('H').sum()\n"
     ]
    }
   ],
   "source": [
    "udp8005['Time'] = pd.to_datetime(udp8005['Time'])\n",
    "udp8005.set_index('Time', inplace=True)\n",
    "volume_per_hour = udp8005['Length'].resample('H').sum()\n",
    "print(\"Volume per hour:\\n\", volume_per_hour)\n"
   ]
  },
  {
   "cell_type": "code",
   "execution_count": 11,
   "metadata": {},
   "outputs": [],
   "source": [
    "import matplotlib.pyplot as plt\n"
   ]
  },
  {
   "cell_type": "code",
   "execution_count": 14,
   "metadata": {},
   "outputs": [
    {
     "data": {
      "image/png": "[encoded data removed]",
      "text/plain": [
       "<Figure size 1000x800 with 2 Axes>"
      ]
     },
     "metadata": {},
     "output_type": "display_data"
    }
   ],
   "source": [
    "import seaborn as sns\n",
    "\n",
    "# Group by src/dst IP pair, count occurrences\n",
    "pair_counts = udp8005.groupby(['Source', 'Destination']).size().unstack(fill_value=0)\n",
    "plt.figure(figsize=(10,8))\n",
    "sns.heatmap(pair_counts, cmap='Blues')\n",
    "plt.title('Heatmap of Source/Destination Pairs')\n",
    "plt.xlabel('Destination IP')\n",
    "plt.ylabel('Source IP')\n",
    "plt.show()"
   ]
  },
  {
   "cell_type": "code",
   "execution_count": 15,
   "metadata": {},
   "outputs": [
    {
     "data": {
      "image/png": "[encoded data removed]",
      "text/plain": [
       "<Figure size 640x480 with 1 Axes>"
      ]
     },
     "metadata": {},
     "output_type": "display_data"
    }
   ],
   "source": [
    "protocol_counts = udp8005['Protocol'].value_counts()\n",
    "protocol_counts.plot(kind='bar', title='Protocol Distribution')\n",
    "plt.ylabel('Number of Events')\n",
    "plt.show()"
   ]
  },
  {
   "cell_type": "code",
   "execution_count": 17,
   "metadata": {},
   "outputs": [
    {
     "name": "stderr",
     "output_type": "stream",
     "text": [
      "/tmp/ipykernel_700587/3734714831.py:2: FutureWarning: 'H' is deprecated and will be removed in a future version, please use 'h' instead.\n",
      "  udp8005['Length'].resample('H').sum().plot(title='Traffic Volume Over Time')\n",
      "/home/dtejada/Personal/loic-ddos-dataset/venv-loic/lib/python3.11/site-packages/pandas/plotting/_matplotlib/core.py:1567: UserWarning: Attempting to set identical low and high xlims makes transformation singular; automatically expanding.\n",
      "  ax.set_xlim(left, right)\n"
     ]
    },
    {
     "data": {
      "image/png": "[encoded data removed]",
      "text/plain": [
       "<Figure size 640x480 with 1 Axes>"
      ]
     },
     "metadata": {},
     "output_type": "display_data"
    },
    {
     "name": "stderr",
     "output_type": "stream",
     "text": [
      "/tmp/ipykernel_700587/3734714831.py:8: FutureWarning: 'H' is deprecated and will be removed in a future version, please use 'h' instead.\n",
      "  udp8005['Length'].resample('H').mean().plot(title='Average Packet Size Over Time')\n",
      "/home/dtejada/Personal/loic-ddos-dataset/venv-loic/lib/python3.11/site-packages/pandas/plotting/_matplotlib/core.py:1567: UserWarning: Attempting to set identical low and high xlims makes transformation singular; automatically expanding.\n",
      "  ax.set_xlim(left, right)\n"
     ]
    },
    {
     "data": {
      "image/png": "[encoded data removed]",
      "text/plain": [
       "<Figure size 640x480 with 1 Axes>"
      ]
     },
     "metadata": {},
     "output_type": "display_data"
    }
   ],
   "source": [
    "# Volume over time\n",
    "udp8005['Length'].resample('H').sum().plot(title='Traffic Volume Over Time')\n",
    "plt.ylabel('Bytes')\n",
    "plt.show()\n",
    "\n",
    "# Avg packet size over time (assume 'pkt_size')\n",
    "if 'Length' in udp8005.columns:\n",
    "    udp8005['Length'].resample('H').mean().plot(title='Average Packet Size Over Time')\n",
    "    plt.ylabel('Packet Size (bytes)')\n",
    "    plt.show()\n"
   ]
  },
  {
   "cell_type": "code",
   "execution_count": 20,
   "metadata": {},
   "outputs": [
    {
     "ename": "TypeError",
     "evalue": "'NoneType' object is not callable",
     "output_type": "error",
     "traceback": [
      "\u001b[31m---------------------------------------------------------------------------\u001b[39m",
      "\u001b[31mTypeError\u001b[39m                                 Traceback (most recent call last)",
      "\u001b[36mCell\u001b[39m\u001b[36m \u001b[39m\u001b[32mIn[20]\u001b[39m\u001b[32m, line 1\u001b[39m\n\u001b[32m----> \u001b[39m\u001b[32m1\u001b[39m unique_src = \u001b[43mudp8005\u001b[49m\u001b[43m.\u001b[49m\u001b[43mgroupby\u001b[49m\u001b[43m(\u001b[49m\u001b[43mpd\u001b[49m\u001b[43m.\u001b[49m\u001b[43mGrouper\u001b[49m\u001b[43m(\u001b[49m\u001b[43m)\u001b[49m\u001b[43m)\u001b[49m[\u001b[33m'\u001b[39m\u001b[33mSource\u001b[39m\u001b[33m'\u001b[39m].nunique()\n\u001b[32m      2\u001b[39m unique_dst = udp8005.groupby(pd.Grouper())[\u001b[33m'\u001b[39m\u001b[33mDestination\u001b[39m\u001b[33m'\u001b[39m].nunique()\n\u001b[32m      4\u001b[39m plt.plot(unique_src, label=\u001b[33m'\u001b[39m\u001b[33mUnique Src IPs\u001b[39m\u001b[33m'\u001b[39m)\n",
      "\u001b[36mFile \u001b[39m\u001b[32m~/Personal/loic-ddos-dataset/venv-loic/lib/python3.11/site-packages/pandas/core/frame.py:9190\u001b[39m, in \u001b[36mDataFrame.groupby\u001b[39m\u001b[34m(self, by, axis, level, as_index, sort, group_keys, observed, dropna)\u001b[39m\n\u001b[32m   9187\u001b[39m \u001b[38;5;28;01mif\u001b[39;00m level \u001b[38;5;129;01mis\u001b[39;00m \u001b[38;5;28;01mNone\u001b[39;00m \u001b[38;5;129;01mand\u001b[39;00m by \u001b[38;5;129;01mis\u001b[39;00m \u001b[38;5;28;01mNone\u001b[39;00m:\n\u001b[32m   9188\u001b[39m     \u001b[38;5;28;01mraise\u001b[39;00m \u001b[38;5;167;01mTypeError\u001b[39;00m(\u001b[33m\"\u001b[39m\u001b[33mYou have to supply one of \u001b[39m\u001b[33m'\u001b[39m\u001b[33mby\u001b[39m\u001b[33m'\u001b[39m\u001b[33m and \u001b[39m\u001b[33m'\u001b[39m\u001b[33mlevel\u001b[39m\u001b[33m'\u001b[39m\u001b[33m\"\u001b[39m)\n\u001b[32m-> \u001b[39m\u001b[32m9190\u001b[39m \u001b[38;5;28;01mreturn\u001b[39;00m \u001b[43mDataFrameGroupBy\u001b[49m\u001b[43m(\u001b[49m\n\u001b[32m   9191\u001b[39m \u001b[43m    \u001b[49m\u001b[43mobj\u001b[49m\u001b[43m=\u001b[49m\u001b[38;5;28;43mself\u001b[39;49m\u001b[43m,\u001b[49m\n\u001b[32m   9192\u001b[39m \u001b[43m    \u001b[49m\u001b[43mkeys\u001b[49m\u001b[43m=\u001b[49m\u001b[43mby\u001b[49m\u001b[43m,\u001b[49m\n\u001b[32m   9193\u001b[39m \u001b[43m    \u001b[49m\u001b[43maxis\u001b[49m\u001b[43m=\u001b[49m\u001b[43maxis\u001b[49m\u001b[43m,\u001b[49m\n\u001b[32m   9194\u001b[39m \u001b[43m    \u001b[49m\u001b[43mlevel\u001b[49m\u001b[43m=\u001b[49m\u001b[43mlevel\u001b[49m\u001b[43m,\u001b[49m\n\u001b[32m   9195\u001b[39m \u001b[43m    \u001b[49m\u001b[43mas_index\u001b[49m\u001b[43m=\u001b[49m\u001b[43mas_index\u001b[49m\u001b[43m,\u001b[49m\n\u001b[32m   9196\u001b[39m \u001b[43m    \u001b[49m\u001b[43msort\u001b[49m\u001b[43m=\u001b[49m\u001b[43msort\u001b[49m\u001b[43m,\u001b[49m\n\u001b[32m   9197\u001b[39m \u001b[43m    \u001b[49m\u001b[43mgroup_keys\u001b[49m\u001b[43m=\u001b[49m\u001b[43mgroup_keys\u001b[49m\u001b[43m,\u001b[49m\n\u001b[32m   9198\u001b[39m \u001b[43m    \u001b[49m\u001b[43mobserved\u001b[49m\u001b[43m=\u001b[49m\u001b[43mobserved\u001b[49m\u001b[43m,\u001b[49m\n\u001b[32m   9199\u001b[39m \u001b[43m    \u001b[49m\u001b[43mdropna\u001b[49m\u001b[43m=\u001b[49m\u001b[43mdropna\u001b[49m\u001b[43m,\u001b[49m\n\u001b[32m   9200\u001b[39m \u001b[43m\u001b[49m\u001b[43m)\u001b[49m\n",
      "\u001b[36mFile \u001b[39m\u001b[32m~/Personal/loic-ddos-dataset/venv-loic/lib/python3.11/site-packages/pandas/core/groupby/groupby.py:1329\u001b[39m, in \u001b[36mGroupBy.__init__\u001b[39m\u001b[34m(self, obj, keys, axis, level, grouper, exclusions, selection, as_index, sort, group_keys, observed, dropna)\u001b[39m\n\u001b[32m   1326\u001b[39m \u001b[38;5;28mself\u001b[39m.dropna = dropna\n\u001b[32m   1328\u001b[39m \u001b[38;5;28;01mif\u001b[39;00m grouper \u001b[38;5;129;01mis\u001b[39;00m \u001b[38;5;28;01mNone\u001b[39;00m:\n\u001b[32m-> \u001b[39m\u001b[32m1329\u001b[39m     grouper, exclusions, obj = \u001b[43mget_grouper\u001b[49m\u001b[43m(\u001b[49m\n\u001b[32m   1330\u001b[39m \u001b[43m        \u001b[49m\u001b[43mobj\u001b[49m\u001b[43m,\u001b[49m\n\u001b[32m   1331\u001b[39m \u001b[43m        \u001b[49m\u001b[43mkeys\u001b[49m\u001b[43m,\u001b[49m\n\u001b[32m   1332\u001b[39m \u001b[43m        \u001b[49m\u001b[43maxis\u001b[49m\u001b[43m=\u001b[49m\u001b[43maxis\u001b[49m\u001b[43m,\u001b[49m\n\u001b[32m   1333\u001b[39m \u001b[43m        \u001b[49m\u001b[43mlevel\u001b[49m\u001b[43m=\u001b[49m\u001b[43mlevel\u001b[49m\u001b[43m,\u001b[49m\n\u001b[32m   1334\u001b[39m \u001b[43m        \u001b[49m\u001b[43msort\u001b[49m\u001b[43m=\u001b[49m\u001b[43msort\u001b[49m\u001b[43m,\u001b[49m\n\u001b[32m   1335\u001b[39m \u001b[43m        \u001b[49m\u001b[43mobserved\u001b[49m\u001b[43m=\u001b[49m\u001b[38;5;28;43;01mFalse\u001b[39;49;00m\u001b[43m \u001b[49m\u001b[38;5;28;43;01mif\u001b[39;49;00m\u001b[43m \u001b[49m\u001b[43mobserved\u001b[49m\u001b[43m \u001b[49m\u001b[38;5;129;43;01mis\u001b[39;49;00m\u001b[43m \u001b[49m\u001b[43mlib\u001b[49m\u001b[43m.\u001b[49m\u001b[43mno_default\u001b[49m\u001b[43m \u001b[49m\u001b[38;5;28;43;01melse\u001b[39;49;00m\u001b[43m \u001b[49m\u001b[43mobserved\u001b[49m\u001b[43m,\u001b[49m\n\u001b[32m   1336\u001b[39m \u001b[43m        \u001b[49m\u001b[43mdropna\u001b[49m\u001b[43m=\u001b[49m\u001b[38;5;28;43mself\u001b[39;49m\u001b[43m.\u001b[49m\u001b[43mdropna\u001b[49m\u001b[43m,\u001b[49m\n\u001b[32m   1337\u001b[39m \u001b[43m    \u001b[49m\u001b[43m)\u001b[49m\n\u001b[32m   1339\u001b[39m \u001b[38;5;28;01mif\u001b[39;00m observed \u001b[38;5;129;01mis\u001b[39;00m lib.no_default:\n\u001b[32m   1340\u001b[39m     \u001b[38;5;28;01mif\u001b[39;00m \u001b[38;5;28many\u001b[39m(ping._passed_categorical \u001b[38;5;28;01mfor\u001b[39;00m ping \u001b[38;5;129;01min\u001b[39;00m grouper.groupings):\n",
      "\u001b[36mFile \u001b[39m\u001b[32m~/Personal/loic-ddos-dataset/venv-loic/lib/python3.11/site-packages/pandas/core/groupby/grouper.py:929\u001b[39m, in \u001b[36mget_grouper\u001b[39m\u001b[34m(obj, key, axis, level, sort, observed, validate, dropna)\u001b[39m\n\u001b[32m    927\u001b[39m \u001b[38;5;66;03m# a passed-in Grouper, directly convert\u001b[39;00m\n\u001b[32m    928\u001b[39m \u001b[38;5;28;01mif\u001b[39;00m \u001b[38;5;28misinstance\u001b[39m(key, Grouper):\n\u001b[32m--> \u001b[39m\u001b[32m929\u001b[39m     grouper, obj = \u001b[43mkey\u001b[49m\u001b[43m.\u001b[49m\u001b[43m_get_grouper\u001b[49m\u001b[43m(\u001b[49m\u001b[43mobj\u001b[49m\u001b[43m,\u001b[49m\u001b[43m \u001b[49m\u001b[43mvalidate\u001b[49m\u001b[43m=\u001b[49m\u001b[38;5;28;43;01mFalse\u001b[39;49;00m\u001b[43m)\u001b[49m\n\u001b[32m    930\u001b[39m     \u001b[38;5;28;01mif\u001b[39;00m key.key \u001b[38;5;129;01mis\u001b[39;00m \u001b[38;5;28;01mNone\u001b[39;00m:\n\u001b[32m    931\u001b[39m         \u001b[38;5;28;01mreturn\u001b[39;00m grouper, \u001b[38;5;28mfrozenset\u001b[39m(), obj\n",
      "\u001b[36mFile \u001b[39m\u001b[32m~/Personal/loic-ddos-dataset/venv-loic/lib/python3.11/site-packages/pandas/core/groupby/grouper.py:315\u001b[39m, in \u001b[36mGrouper._get_grouper\u001b[39m\u001b[34m(self, obj, validate)\u001b[39m\n\u001b[32m    303\u001b[39m \u001b[38;5;250m\u001b[39m\u001b[33;03m\"\"\"\u001b[39;00m\n\u001b[32m    304\u001b[39m \u001b[33;03mParameters\u001b[39;00m\n\u001b[32m    305\u001b[39m \u001b[33;03m----------\u001b[39;00m\n\u001b[32m   (...)\u001b[39m\u001b[32m    312\u001b[39m \u001b[33;03ma tuple of grouper, obj (possibly sorted)\u001b[39;00m\n\u001b[32m    313\u001b[39m \u001b[33;03m\"\"\"\u001b[39;00m\n\u001b[32m    314\u001b[39m obj, _, _ = \u001b[38;5;28mself\u001b[39m._set_grouper(obj)\n\u001b[32m--> \u001b[39m\u001b[32m315\u001b[39m grouper, _, obj = \u001b[43mget_grouper\u001b[49m\u001b[43m(\u001b[49m\n\u001b[32m    316\u001b[39m \u001b[43m    \u001b[49m\u001b[43mobj\u001b[49m\u001b[43m,\u001b[49m\n\u001b[32m    317\u001b[39m \u001b[43m    \u001b[49m\u001b[43m[\u001b[49m\u001b[38;5;28;43mself\u001b[39;49m\u001b[43m.\u001b[49m\u001b[43mkey\u001b[49m\u001b[43m]\u001b[49m\u001b[43m,\u001b[49m\n\u001b[32m    318\u001b[39m \u001b[43m    \u001b[49m\u001b[43maxis\u001b[49m\u001b[43m=\u001b[49m\u001b[38;5;28;43mself\u001b[39;49m\u001b[43m.\u001b[49m\u001b[43maxis\u001b[49m\u001b[43m,\u001b[49m\n\u001b[32m    319\u001b[39m \u001b[43m    \u001b[49m\u001b[43mlevel\u001b[49m\u001b[43m=\u001b[49m\u001b[38;5;28;43mself\u001b[39;49m\u001b[43m.\u001b[49m\u001b[43mlevel\u001b[49m\u001b[43m,\u001b[49m\n\u001b[32m    320\u001b[39m \u001b[43m    \u001b[49m\u001b[43msort\u001b[49m\u001b[43m=\u001b[49m\u001b[38;5;28;43mself\u001b[39;49m\u001b[43m.\u001b[49m\u001b[43msort\u001b[49m\u001b[43m,\u001b[49m\n\u001b[32m    321\u001b[39m \u001b[43m    \u001b[49m\u001b[43mvalidate\u001b[49m\u001b[43m=\u001b[49m\u001b[43mvalidate\u001b[49m\u001b[43m,\u001b[49m\n\u001b[32m    322\u001b[39m \u001b[43m    \u001b[49m\u001b[43mdropna\u001b[49m\u001b[43m=\u001b[49m\u001b[38;5;28;43mself\u001b[39;49m\u001b[43m.\u001b[49m\u001b[43mdropna\u001b[49m\u001b[43m,\u001b[49m\n\u001b[32m    323\u001b[39m \u001b[43m\u001b[49m\u001b[43m)\u001b[49m\n\u001b[32m    324\u001b[39m \u001b[38;5;66;03m# Without setting this, subsequent lookups to .groups raise\u001b[39;00m\n\u001b[32m    325\u001b[39m \u001b[38;5;66;03m# error: Incompatible types in assignment (expression has type \"BaseGrouper\",\u001b[39;00m\n\u001b[32m    326\u001b[39m \u001b[38;5;66;03m# variable has type \"None\")\u001b[39;00m\n\u001b[32m    327\u001b[39m \u001b[38;5;28mself\u001b[39m._grouper_deprecated = grouper  \u001b[38;5;66;03m# type: ignore[assignment]\u001b[39;00m\n",
      "\u001b[36mFile \u001b[39m\u001b[32m~/Personal/loic-ddos-dataset/venv-loic/lib/python3.11/site-packages/pandas/core/groupby/grouper.py:1054\u001b[39m, in \u001b[36mget_grouper\u001b[39m\u001b[34m(obj, key, axis, level, sort, observed, validate, dropna)\u001b[39m\n\u001b[32m   1049\u001b[39m         in_axis = \u001b[38;5;28;01mFalse\u001b[39;00m\n\u001b[32m   1051\u001b[39m     \u001b[38;5;66;03m# create the Grouping\u001b[39;00m\n\u001b[32m   1052\u001b[39m     \u001b[38;5;66;03m# allow us to passing the actual Grouping as the gpr\u001b[39;00m\n\u001b[32m   1053\u001b[39m     ping = (\n\u001b[32m-> \u001b[39m\u001b[32m1054\u001b[39m         \u001b[43mGrouping\u001b[49m\u001b[43m(\u001b[49m\n\u001b[32m   1055\u001b[39m \u001b[43m            \u001b[49m\u001b[43mgroup_axis\u001b[49m\u001b[43m,\u001b[49m\n\u001b[32m   1056\u001b[39m \u001b[43m            \u001b[49m\u001b[43mgpr\u001b[49m\u001b[43m,\u001b[49m\n\u001b[32m   1057\u001b[39m \u001b[43m            \u001b[49m\u001b[43mobj\u001b[49m\u001b[43m=\u001b[49m\u001b[43mobj\u001b[49m\u001b[43m,\u001b[49m\n\u001b[32m   1058\u001b[39m \u001b[43m            \u001b[49m\u001b[43mlevel\u001b[49m\u001b[43m=\u001b[49m\u001b[43mlevel\u001b[49m\u001b[43m,\u001b[49m\n\u001b[32m   1059\u001b[39m \u001b[43m            \u001b[49m\u001b[43msort\u001b[49m\u001b[43m=\u001b[49m\u001b[43msort\u001b[49m\u001b[43m,\u001b[49m\n\u001b[32m   1060\u001b[39m \u001b[43m            \u001b[49m\u001b[43mobserved\u001b[49m\u001b[43m=\u001b[49m\u001b[43mobserved\u001b[49m\u001b[43m,\u001b[49m\n\u001b[32m   1061\u001b[39m \u001b[43m            \u001b[49m\u001b[43min_axis\u001b[49m\u001b[43m=\u001b[49m\u001b[43min_axis\u001b[49m\u001b[43m,\u001b[49m\n\u001b[32m   1062\u001b[39m \u001b[43m            \u001b[49m\u001b[43mdropna\u001b[49m\u001b[43m=\u001b[49m\u001b[43mdropna\u001b[49m\u001b[43m,\u001b[49m\n\u001b[32m   1063\u001b[39m \u001b[43m        \u001b[49m\u001b[43m)\u001b[49m\n\u001b[32m   1064\u001b[39m         \u001b[38;5;28;01mif\u001b[39;00m \u001b[38;5;129;01mnot\u001b[39;00m \u001b[38;5;28misinstance\u001b[39m(gpr, Grouping)\n\u001b[32m   1065\u001b[39m         \u001b[38;5;28;01melse\u001b[39;00m gpr\n\u001b[32m   1066\u001b[39m     )\n\u001b[32m   1068\u001b[39m     groupings.append(ping)\n\u001b[32m   1070\u001b[39m \u001b[38;5;28;01mif\u001b[39;00m \u001b[38;5;28mlen\u001b[39m(groupings) == \u001b[32m0\u001b[39m \u001b[38;5;129;01mand\u001b[39;00m \u001b[38;5;28mlen\u001b[39m(obj):\n",
      "\u001b[36mFile \u001b[39m\u001b[32m~/Personal/loic-ddos-dataset/venv-loic/lib/python3.11/site-packages/pandas/core/groupby/grouper.py:603\u001b[39m, in \u001b[36mGrouping.__init__\u001b[39m\u001b[34m(self, index, grouper, obj, level, sort, observed, in_axis, dropna, uniques)\u001b[39m\n\u001b[32m    600\u001b[39m     t = \u001b[38;5;28mstr\u001b[39m(\u001b[38;5;28mtype\u001b[39m(grouping_vector))\n\u001b[32m    601\u001b[39m     \u001b[38;5;28;01mraise\u001b[39;00m \u001b[38;5;167;01mValueError\u001b[39;00m(\u001b[33mf\u001b[39m\u001b[33m\"\u001b[39m\u001b[33mGrouper for \u001b[39m\u001b[33m'\u001b[39m\u001b[38;5;132;01m{\u001b[39;00mt\u001b[38;5;132;01m}\u001b[39;00m\u001b[33m'\u001b[39m\u001b[33m not 1-dimensional\u001b[39m\u001b[33m\"\u001b[39m)\n\u001b[32m--> \u001b[39m\u001b[32m603\u001b[39m grouping_vector = \u001b[43mindex\u001b[49m\u001b[43m.\u001b[49m\u001b[43mmap\u001b[49m\u001b[43m(\u001b[49m\u001b[43mgrouping_vector\u001b[49m\u001b[43m)\u001b[49m\n\u001b[32m    605\u001b[39m \u001b[38;5;28;01mif\u001b[39;00m \u001b[38;5;129;01mnot\u001b[39;00m (\n\u001b[32m    606\u001b[39m     \u001b[38;5;28mhasattr\u001b[39m(grouping_vector, \u001b[33m\"\u001b[39m\u001b[33m__len__\u001b[39m\u001b[33m\"\u001b[39m)\n\u001b[32m    607\u001b[39m     \u001b[38;5;129;01mand\u001b[39;00m \u001b[38;5;28mlen\u001b[39m(grouping_vector) == \u001b[38;5;28mlen\u001b[39m(index)\n\u001b[32m    608\u001b[39m ):\n\u001b[32m    609\u001b[39m     grper = pprint_thing(grouping_vector)\n",
      "\u001b[36mFile \u001b[39m\u001b[32m~/Personal/loic-ddos-dataset/venv-loic/lib/python3.11/site-packages/pandas/core/indexes/base.py:6507\u001b[39m, in \u001b[36mIndex.map\u001b[39m\u001b[34m(self, mapper, na_action)\u001b[39m\n\u001b[32m   6471\u001b[39m \u001b[38;5;250m\u001b[39m\u001b[33;03m\"\"\"\u001b[39;00m\n\u001b[32m   6472\u001b[39m \u001b[33;03mMap values using an input mapping or function.\u001b[39;00m\n\u001b[32m   6473\u001b[39m \n\u001b[32m   (...)\u001b[39m\u001b[32m   6503\u001b[39m \u001b[33;03mIndex(['A', 'B', 'C'], dtype='object')\u001b[39;00m\n\u001b[32m   6504\u001b[39m \u001b[33;03m\"\"\"\u001b[39;00m\n\u001b[32m   6505\u001b[39m \u001b[38;5;28;01mfrom\u001b[39;00m\u001b[38;5;250m \u001b[39m\u001b[34;01mpandas\u001b[39;00m\u001b[34;01m.\u001b[39;00m\u001b[34;01mcore\u001b[39;00m\u001b[34;01m.\u001b[39;00m\u001b[34;01mindexes\u001b[39;00m\u001b[34;01m.\u001b[39;00m\u001b[34;01mmulti\u001b[39;00m\u001b[38;5;250m \u001b[39m\u001b[38;5;28;01mimport\u001b[39;00m MultiIndex\n\u001b[32m-> \u001b[39m\u001b[32m6507\u001b[39m new_values = \u001b[38;5;28;43mself\u001b[39;49m\u001b[43m.\u001b[49m\u001b[43m_map_values\u001b[49m\u001b[43m(\u001b[49m\u001b[43mmapper\u001b[49m\u001b[43m,\u001b[49m\u001b[43m \u001b[49m\u001b[43mna_action\u001b[49m\u001b[43m=\u001b[49m\u001b[43mna_action\u001b[49m\u001b[43m)\u001b[49m\n\u001b[32m   6509\u001b[39m \u001b[38;5;66;03m# we can return a MultiIndex\u001b[39;00m\n\u001b[32m   6510\u001b[39m \u001b[38;5;28;01mif\u001b[39;00m new_values.size \u001b[38;5;129;01mand\u001b[39;00m \u001b[38;5;28misinstance\u001b[39m(new_values[\u001b[32m0\u001b[39m], \u001b[38;5;28mtuple\u001b[39m):\n",
      "\u001b[36mFile \u001b[39m\u001b[32m~/Personal/loic-ddos-dataset/venv-loic/lib/python3.11/site-packages/pandas/core/base.py:923\u001b[39m, in \u001b[36mIndexOpsMixin._map_values\u001b[39m\u001b[34m(self, mapper, na_action, convert)\u001b[39m\n\u001b[32m    920\u001b[39m arr = \u001b[38;5;28mself\u001b[39m._values\n\u001b[32m    922\u001b[39m \u001b[38;5;28;01mif\u001b[39;00m \u001b[38;5;28misinstance\u001b[39m(arr, ExtensionArray):\n\u001b[32m--> \u001b[39m\u001b[32m923\u001b[39m     \u001b[38;5;28;01mreturn\u001b[39;00m \u001b[43marr\u001b[49m\u001b[43m.\u001b[49m\u001b[43mmap\u001b[49m\u001b[43m(\u001b[49m\u001b[43mmapper\u001b[49m\u001b[43m,\u001b[49m\u001b[43m \u001b[49m\u001b[43mna_action\u001b[49m\u001b[43m=\u001b[49m\u001b[43mna_action\u001b[49m\u001b[43m)\u001b[49m\n\u001b[32m    925\u001b[39m \u001b[38;5;28;01mreturn\u001b[39;00m algorithms.map_array(arr, mapper, na_action=na_action, convert=convert)\n",
      "\u001b[36mFile \u001b[39m\u001b[32m~/Personal/loic-ddos-dataset/venv-loic/lib/python3.11/site-packages/pandas/core/arrays/_mixins.py:81\u001b[39m, in \u001b[36mravel_compat.<locals>.method\u001b[39m\u001b[34m(self, *args, **kwargs)\u001b[39m\n\u001b[32m     78\u001b[39m \u001b[38;5;129m@wraps\u001b[39m(meth)\n\u001b[32m     79\u001b[39m \u001b[38;5;28;01mdef\u001b[39;00m\u001b[38;5;250m \u001b[39m\u001b[34mmethod\u001b[39m(\u001b[38;5;28mself\u001b[39m, *args, **kwargs):\n\u001b[32m     80\u001b[39m     \u001b[38;5;28;01mif\u001b[39;00m \u001b[38;5;28mself\u001b[39m.ndim == \u001b[32m1\u001b[39m:\n\u001b[32m---> \u001b[39m\u001b[32m81\u001b[39m         \u001b[38;5;28;01mreturn\u001b[39;00m \u001b[43mmeth\u001b[49m\u001b[43m(\u001b[49m\u001b[38;5;28;43mself\u001b[39;49m\u001b[43m,\u001b[49m\u001b[43m \u001b[49m\u001b[43m*\u001b[49m\u001b[43margs\u001b[49m\u001b[43m,\u001b[49m\u001b[43m \u001b[49m\u001b[43m*\u001b[49m\u001b[43m*\u001b[49m\u001b[43mkwargs\u001b[49m\u001b[43m)\u001b[49m\n\u001b[32m     83\u001b[39m     flags = \u001b[38;5;28mself\u001b[39m._ndarray.flags\n\u001b[32m     84\u001b[39m     flat = \u001b[38;5;28mself\u001b[39m.ravel(\u001b[33m\"\u001b[39m\u001b[33mK\u001b[39m\u001b[33m\"\u001b[39m)\n",
      "\u001b[36mFile \u001b[39m\u001b[32m~/Personal/loic-ddos-dataset/venv-loic/lib/python3.11/site-packages/pandas/core/arrays/datetimelike.py:763\u001b[39m, in \u001b[36mDatetimeLikeArrayMixin.map\u001b[39m\u001b[34m(self, mapper, na_action)\u001b[39m\n\u001b[32m    759\u001b[39m \u001b[38;5;129m@ravel_compat\u001b[39m\n\u001b[32m    760\u001b[39m \u001b[38;5;28;01mdef\u001b[39;00m\u001b[38;5;250m \u001b[39m\u001b[34mmap\u001b[39m(\u001b[38;5;28mself\u001b[39m, mapper, na_action=\u001b[38;5;28;01mNone\u001b[39;00m):\n\u001b[32m    761\u001b[39m     \u001b[38;5;28;01mfrom\u001b[39;00m\u001b[38;5;250m \u001b[39m\u001b[34;01mpandas\u001b[39;00m\u001b[38;5;250m \u001b[39m\u001b[38;5;28;01mimport\u001b[39;00m Index\n\u001b[32m--> \u001b[39m\u001b[32m763\u001b[39m     result = \u001b[43mmap_array\u001b[49m\u001b[43m(\u001b[49m\u001b[38;5;28;43mself\u001b[39;49m\u001b[43m,\u001b[49m\u001b[43m \u001b[49m\u001b[43mmapper\u001b[49m\u001b[43m,\u001b[49m\u001b[43m \u001b[49m\u001b[43mna_action\u001b[49m\u001b[43m=\u001b[49m\u001b[43mna_action\u001b[49m\u001b[43m)\u001b[49m\n\u001b[32m    764\u001b[39m     result = Index(result)\n\u001b[32m    766\u001b[39m     \u001b[38;5;28;01mif\u001b[39;00m \u001b[38;5;28misinstance\u001b[39m(result, ABCMultiIndex):\n",
      "\u001b[36mFile \u001b[39m\u001b[32m~/Personal/loic-ddos-dataset/venv-loic/lib/python3.11/site-packages/pandas/core/algorithms.py:1743\u001b[39m, in \u001b[36mmap_array\u001b[39m\u001b[34m(arr, mapper, na_action, convert)\u001b[39m\n\u001b[32m   1741\u001b[39m values = arr.astype(\u001b[38;5;28mobject\u001b[39m, copy=\u001b[38;5;28;01mFalse\u001b[39;00m)\n\u001b[32m   1742\u001b[39m \u001b[38;5;28;01mif\u001b[39;00m na_action \u001b[38;5;129;01mis\u001b[39;00m \u001b[38;5;28;01mNone\u001b[39;00m:\n\u001b[32m-> \u001b[39m\u001b[32m1743\u001b[39m     \u001b[38;5;28;01mreturn\u001b[39;00m \u001b[43mlib\u001b[49m\u001b[43m.\u001b[49m\u001b[43mmap_infer\u001b[49m\u001b[43m(\u001b[49m\u001b[43mvalues\u001b[49m\u001b[43m,\u001b[49m\u001b[43m \u001b[49m\u001b[43mmapper\u001b[49m\u001b[43m,\u001b[49m\u001b[43m \u001b[49m\u001b[43mconvert\u001b[49m\u001b[43m=\u001b[49m\u001b[43mconvert\u001b[49m\u001b[43m)\u001b[49m\n\u001b[32m   1744\u001b[39m \u001b[38;5;28;01melse\u001b[39;00m:\n\u001b[32m   1745\u001b[39m     \u001b[38;5;28;01mreturn\u001b[39;00m lib.map_infer_mask(\n\u001b[32m   1746\u001b[39m         values, mapper, mask=isna(values).view(np.uint8), convert=convert\n\u001b[32m   1747\u001b[39m     )\n",
      "\u001b[36mFile \u001b[39m\u001b[32mpandas/_libs/lib.pyx:2999\u001b[39m, in \u001b[36mpandas._libs.lib.map_infer\u001b[39m\u001b[34m()\u001b[39m\n",
      "\u001b[31mTypeError\u001b[39m: 'NoneType' object is not callable"
     ]
    }
   ],
   "source": [
    "unique_src = udp8005.groupby(pd.Grouper())['Source'].nunique()\n",
    "unique_dst = udp8005.groupby(pd.Grouper())['Destination'].nunique()\n",
    "\n",
    "plt.plot(unique_src, label='Unique Src IPs')\n",
    "plt.plot(unique_dst, label='Unique Dst IPs')\n",
    "plt.legend()\n",
    "plt.title('Unique Src/Dst IPs Over Time')\n",
    "plt.ylabel('Count')\n",
    "plt.show()\n"
   ]
  },
  {
   "cell_type": "markdown",
   "metadata": {},
   "source": [
    "# Attack Behavior Analysis"
   ]
  },
  {
   "cell_type": "markdown",
   "metadata": {},
   "source": [
    "# Anomaly & Outlier Detection"
   ]
  },
  {
   "cell_type": "markdown",
   "metadata": {},
   "source": [
    "# Correlation & Attribution"
   ]
  },
  {
   "cell_type": "markdown",
   "metadata": {},
   "source": [
    "# Summarize Findings & Actionable Insights"
   ]
  }
 ],
 "metadata": {
  "kernelspec": {
   "display_name": "venv-loic",
   "language": "python",
   "name": "python3"
  },
  "language_info": {
   "codemirror_mode": {
    "name": "ipython",
    "version": 3
   },
   "file_extension": ".py",
   "mimetype": "text/x-python",
   "name": "python",
   "nbconvert_exporter": "python",
   "pygments_lexer": "ipython3",
   "version": "3.11.13"
  }
 },
 "nbformat": 4,
 "nbformat_minor": 2
}
